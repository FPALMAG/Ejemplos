{
  "nbformat": 4,
  "nbformat_minor": 0,
  "metadata": {
    "colab": {
      "provenance": [],
      "include_colab_link": true
    },
    "kernelspec": {
      "name": "ir",
      "display_name": "R"
    },
    "language_info": {
      "name": "R"
    }
  },
  "cells": [
    {
      "cell_type": "markdown",
      "metadata": {
        "id": "view-in-github",
        "colab_type": "text"
      },
      "source": [
        "<a href=\"https://colab.research.google.com/github/FPALMAG/Ejemplos/blob/main/S03_Midagri_300925.ipynb\" target=\"_parent\"><img src=\"https://colab.research.google.com/assets/colab-badge.svg\" alt=\"Open In Colab\"/></a>"
      ]
    },
    {
      "cell_type": "markdown",
      "source": [
        "*=========================================================================* \\\n",
        "**MIDAGRI** \\\n",
        "Autor: Mg. Fernando Palma Galindo     \n",
        "Correo: pefpalma@upc.edu.pe\n",
        "### **SESION 3**\n",
        "*=========================================================================*"
      ],
      "metadata": {
        "id": "woBzdsfWx0rJ"
      }
    },
    {
      "cell_type": "markdown",
      "source": [
        "##### Activar R en Colab"
      ],
      "metadata": {
        "id": "PXf1sQANjU7U"
      }
    },
    {
      "cell_type": "code",
      "source": [
        "# ===============================\n",
        "# Instalar R en Google Colab\n",
        "# ===============================\n",
        "# El prefijo \"!\" permite ejecutar comandos de la terminal de Linux\n",
        "# directamente desde una celda de Colab.\n",
        "# \"apt-get install -y r-base\" instala el núcleo de R (R Base).\n",
        "# El parámetro \"-y\" responde automáticamente \"yes\" a todas las preguntas,\n",
        "# evitando que el usuario tenga que confirmar manualmente.\n",
        "!apt-get install -y r-base\n",
        "\n",
        "# ===============================\n",
        "# Activar el intérprete de R en Colab\n",
        "# ===============================\n",
        "# El prefijo \"%\" indica que es un \"comando mágico\" en Jupyter/Colab.\n",
        "# \"load_ext rpy2.ipython\" carga la extensión rpy2,\n",
        "# que permite ejecutar código en R dentro de Colab.\n",
        "# Una vez activado, puedes usar \"%%R\" al inicio de una celda\n",
        "# para escribir directamente código R en lugar de Python.\n",
        "%load_ext rpy2.ipython\n"
      ],
      "metadata": {
        "colab": {
          "base_uri": "https://localhost:8080/"
        },
        "id": "FgcZZWu_y55U",
        "outputId": "53b58c49-2c88-4ec5-e4be-aa5904db8b6c"
      },
      "execution_count": null,
      "outputs": [
        {
          "output_type": "stream",
          "name": "stdout",
          "text": [
            "Reading package lists... Done\n",
            "Building dependency tree... Done\n",
            "Reading state information... Done\n",
            "r-base is already the newest version (4.5.1-1.2204.0).\n",
            "0 upgraded, 0 newly installed, 0 to remove and 35 not upgraded.\n"
          ]
        }
      ]
    },
    {
      "cell_type": "markdown",
      "source": [
        "##### Descarga e instalación de paqueterías"
      ],
      "metadata": {
        "id": "X_TnO6l3UdL6"
      }
    },
    {
      "cell_type": "code",
      "source": [
        "#%%R\n",
        "\n",
        "install.packages(\"dplyr\")       # Instala el paquete 'dplyr' (manipulación eficiente de datos)\n",
        "install.packages(\"tidyverse\")   # Instala 'tidyverse', que incluye varios paquetes útiles como ggplot2, dplyr, tidyr, readr, etc.\n",
        "install.packages(\"readr\")       # Instala 'readr' para leer datos en formatos como CSV\n",
        "install.packages(\"readxl\")      # Instala 'readxl' para leer archivos Excel (.xls, .xlsx)\n",
        "install.packages(\"haven\")       # Instala 'haven' para leer datos de Stata, SPSS y SAS\n",
        "# install.packages(\"sf\")        # Instala 'sf' (commentado, sirve para datos espaciales / SIG)\n",
        "install.packages(\"curl\")        # Instala 'curl', útil para descargar datos desde la web\n",
        "\n",
        "library(dplyr)                  # Carga 'dplyr' (manipulación de datos: filtros, joins, etc.)\n",
        "library(tidyverse)              # Carga 'tidyverse' (colección de paquetes para ciencia de datos)\n",
        "library(readr)                  # Carga 'readr' (lectura rápida de archivos planos como CSV/TSV)\n",
        "library(readxl)                 # Carga 'readxl' (lectura de archivos Excel)\n",
        "library(haven)                  # Carga 'haven' (lectura de formatos de software estadístico)\n",
        "# library(sf)                   # Carga 'sf' (commentado, solo si se trabaja con datos espaciales)\n",
        "library(curl)                   # Carga 'curl' (para conectarse y descargar archivos desde internet)\n",
        "library(googledrive)            # Permite acceder, descargar y subir archivos desde Google Drive\n",
        "library(googlesheets4)          # Permite leer y escribir directamente en Google Sheets"
      ],
      "metadata": {
        "colab": {
          "base_uri": "https://localhost:8080/",
          "height": 0
        },
        "collapsed": true,
        "id": "nTys63SJy9a4",
        "outputId": "3e68cb48-0be0-4b09-a2ec-2e46440afc0a"
      },
      "execution_count": 1,
      "outputs": [
        {
          "output_type": "stream",
          "name": "stderr",
          "text": [
            "Installing package into ‘/usr/local/lib/R/site-library’\n",
            "(as ‘lib’ is unspecified)\n",
            "\n",
            "Installing package into ‘/usr/local/lib/R/site-library’\n",
            "(as ‘lib’ is unspecified)\n",
            "\n",
            "Installing package into ‘/usr/local/lib/R/site-library’\n",
            "(as ‘lib’ is unspecified)\n",
            "\n",
            "Installing package into ‘/usr/local/lib/R/site-library’\n",
            "(as ‘lib’ is unspecified)\n",
            "\n",
            "Installing package into ‘/usr/local/lib/R/site-library’\n",
            "(as ‘lib’ is unspecified)\n",
            "\n",
            "Installing package into ‘/usr/local/lib/R/site-library’\n",
            "(as ‘lib’ is unspecified)\n",
            "\n",
            "\n",
            "Attaching package: ‘dplyr’\n",
            "\n",
            "\n",
            "The following objects are masked from ‘package:stats’:\n",
            "\n",
            "    filter, lag\n",
            "\n",
            "\n",
            "The following objects are masked from ‘package:base’:\n",
            "\n",
            "    intersect, setdiff, setequal, union\n",
            "\n",
            "\n",
            "── \u001b[1mAttaching core tidyverse packages\u001b[22m ──────────────────────── tidyverse 2.0.0 ──\n",
            "\u001b[32m✔\u001b[39m \u001b[34mforcats  \u001b[39m 1.0.1     \u001b[32m✔\u001b[39m \u001b[34mreadr    \u001b[39m 2.1.5\n",
            "\u001b[32m✔\u001b[39m \u001b[34mggplot2  \u001b[39m 4.0.0     \u001b[32m✔\u001b[39m \u001b[34mstringr  \u001b[39m 1.5.2\n",
            "\u001b[32m✔\u001b[39m \u001b[34mlubridate\u001b[39m 1.9.4     \u001b[32m✔\u001b[39m \u001b[34mtibble   \u001b[39m 3.3.0\n",
            "\u001b[32m✔\u001b[39m \u001b[34mpurrr    \u001b[39m 1.1.0     \u001b[32m✔\u001b[39m \u001b[34mtidyr    \u001b[39m 1.3.1\n",
            "── \u001b[1mConflicts\u001b[22m ────────────────────────────────────────── tidyverse_conflicts() ──\n",
            "\u001b[31m✖\u001b[39m \u001b[34mdplyr\u001b[39m::\u001b[32mfilter()\u001b[39m masks \u001b[34mstats\u001b[39m::filter()\n",
            "\u001b[31m✖\u001b[39m \u001b[34mdplyr\u001b[39m::\u001b[32mlag()\u001b[39m    masks \u001b[34mstats\u001b[39m::lag()\n",
            "\u001b[36mℹ\u001b[39m Use the conflicted package (\u001b[3m\u001b[34m<http://conflicted.r-lib.org/>\u001b[39m\u001b[23m) to force all conflicts to become errors\n",
            "Using libcurl 7.81.0 with OpenSSL/3.0.2\n",
            "\n",
            "\n",
            "Attaching package: ‘curl’\n",
            "\n",
            "\n",
            "The following object is masked from ‘package:readr’:\n",
            "\n",
            "    parse_date\n",
            "\n",
            "\n",
            "\n",
            "Attaching package: ‘googlesheets4’\n",
            "\n",
            "\n",
            "The following objects are masked from ‘package:googledrive’:\n",
            "\n",
            "    request_generate, request_make\n",
            "\n",
            "\n"
          ]
        }
      ]
    },
    {
      "cell_type": "markdown",
      "source": [
        "### Recap"
      ],
      "metadata": {
        "id": "ME58o6QOLNIt"
      }
    },
    {
      "cell_type": "code",
      "source": [
        "# Lista de departamentos del Perú\n",
        "departamentos <- c(\"Amazonas\", \"Áncash\", \"Apurímac\", \"Arequipa\", \"Ayacucho\",\n",
        "                   \"Cajamarca\", \"Callao\", \"Cusco\", \"Huancavelica\", \"Huánuco\",\n",
        "                   \"Ica\", \"Junín\", \"La Libertad\", \"Lambayeque\", \"Lima\",\n",
        "                   \"Loreto\", \"Madre de Dios\", \"Moquegua\", \"Pasco\", \"Piura\",\n",
        "                   \"Puno\", \"San Martín\", \"Tacna\", \"Tumbes\", \"Ucayali\")"
      ],
      "metadata": {
        "id": "MX85LztQKf65"
      },
      "execution_count": 4,
      "outputs": []
    },
    {
      "cell_type": "code",
      "source": [
        "class(departamentos)"
      ],
      "metadata": {
        "colab": {
          "base_uri": "https://localhost:8080/",
          "height": 34
        },
        "id": "j_r13iANKkjr",
        "outputId": "4022a756-78a9-49a1-8ae7-804ad7c3ad36"
      },
      "execution_count": 5,
      "outputs": [
        {
          "output_type": "display_data",
          "data": {
            "text/html": [
              "'character'"
            ],
            "text/markdown": "'character'",
            "text/latex": "'character'",
            "text/plain": [
              "[1] \"character\""
            ]
          },
          "metadata": {}
        }
      ]
    },
    {
      "cell_type": "code",
      "source": [
        "length(departamentos)"
      ],
      "metadata": {
        "colab": {
          "base_uri": "https://localhost:8080/",
          "height": 34
        },
        "id": "LtN1m6UPKvD_",
        "outputId": "08f3b350-54c7-4c03-82b8-adce43915de7"
      },
      "execution_count": 6,
      "outputs": [
        {
          "output_type": "display_data",
          "data": {
            "text/html": [
              "25"
            ],
            "text/markdown": "25",
            "text/latex": "25",
            "text/plain": [
              "[1] 25"
            ]
          },
          "metadata": {}
        }
      ]
    },
    {
      "cell_type": "code",
      "source": [
        "# Semilla para reproducibilidad\n",
        "set.seed(123)"
      ],
      "metadata": {
        "id": "vecDEplHK0Jl"
      },
      "execution_count": 7,
      "outputs": []
    },
    {
      "cell_type": "code",
      "source": [
        "sample(1:10, 5,replace=TRUE)"
      ],
      "metadata": {
        "colab": {
          "base_uri": "https://localhost:8080/",
          "height": 34
        },
        "id": "yAf7w3uMMNoq",
        "outputId": "8095016b-9ba0-41e5-8241-671fbd383a8d"
      },
      "execution_count": 19,
      "outputs": [
        {
          "output_type": "display_data",
          "data": {
            "text/html": [
              "<style>\n",
              ".list-inline {list-style: none; margin:0; padding: 0}\n",
              ".list-inline>li {display: inline-block}\n",
              ".list-inline>li:not(:last-child)::after {content: \"\\00b7\"; padding: 0 .5ex}\n",
              "</style>\n",
              "<ol class=list-inline><li>1</li><li>8</li><li>4</li><li>9</li><li>8</li></ol>\n"
            ],
            "text/markdown": "1. 1\n2. 8\n3. 4\n4. 9\n5. 8\n\n\n",
            "text/latex": "\\begin{enumerate*}\n\\item 1\n\\item 8\n\\item 4\n\\item 9\n\\item 8\n\\end{enumerate*}\n",
            "text/plain": [
              "[1] 1 8 4 9 8"
            ]
          },
          "metadata": {}
        }
      ]
    },
    {
      "cell_type": "code",
      "source": [
        "Consumo = sample(100:1000, length(departamentos), replace = TRUE)\n",
        "Consumo # Nos muestra todos los datos del data frame creado con numeros aleatorios"
      ],
      "metadata": {
        "colab": {
          "base_uri": "https://localhost:8080/",
          "height": 34
        },
        "id": "Lzf-yjS-MmLz",
        "outputId": "b7c1f0c4-d66c-493b-e85a-1471f26c2359"
      },
      "execution_count": 27,
      "outputs": [
        {
          "output_type": "display_data",
          "data": {
            "text/html": [
              "<style>\n",
              ".list-inline {list-style: none; margin:0; padding: 0}\n",
              ".list-inline>li {display: inline-block}\n",
              ".list-inline>li:not(:last-child)::after {content: \"\\00b7\"; padding: 0 .5ex}\n",
              "</style>\n",
              "<ol class=list-inline><li>277</li><li>516</li><li>563</li><li>511</li><li>276</li><li>623</li><li>536</li><li>677</li><li>661</li><li>303</li><li>274</li><li>472</li><li>745</li><li>563</li><li>483</li><li>221</li><li>498</li><li>502</li><li>414</li><li>358</li><li>593</li><li>964</li><li>859</li><li>388</li><li>147</li></ol>\n"
            ],
            "text/markdown": "1. 277\n2. 516\n3. 563\n4. 511\n5. 276\n6. 623\n7. 536\n8. 677\n9. 661\n10. 303\n11. 274\n12. 472\n13. 745\n14. 563\n15. 483\n16. 221\n17. 498\n18. 502\n19. 414\n20. 358\n21. 593\n22. 964\n23. 859\n24. 388\n25. 147\n\n\n",
            "text/latex": "\\begin{enumerate*}\n\\item 277\n\\item 516\n\\item 563\n\\item 511\n\\item 276\n\\item 623\n\\item 536\n\\item 677\n\\item 661\n\\item 303\n\\item 274\n\\item 472\n\\item 745\n\\item 563\n\\item 483\n\\item 221\n\\item 498\n\\item 502\n\\item 414\n\\item 358\n\\item 593\n\\item 964\n\\item 859\n\\item 388\n\\item 147\n\\end{enumerate*}\n",
            "text/plain": [
              " [1] 277 516 563 511 276 623 536 677 661 303 274 472 745 563 483 221 498 502 414\n",
              "[20] 358 593 964 859 388 147"
            ]
          },
          "metadata": {}
        }
      ]
    },
    {
      "cell_type": "code",
      "source": [
        "Produccion = sample(500:5000, length(departamentos), replace = TRUE)\n",
        "Produccion"
      ],
      "metadata": {
        "colab": {
          "base_uri": "https://localhost:8080/",
          "height": 34
        },
        "id": "-5iXMbC_Nmrv",
        "outputId": "d1f9ded3-7029-40c4-b9d2-c5a4b029d09a"
      },
      "execution_count": 28,
      "outputs": [
        {
          "output_type": "display_data",
          "data": {
            "text/html": [
              "<style>\n",
              ".list-inline {list-style: none; margin:0; padding: 0}\n",
              ".list-inline>li {display: inline-block}\n",
              ".list-inline>li:not(:last-child)::after {content: \"\\00b7\"; padding: 0 .5ex}\n",
              "</style>\n",
              "<ol class=list-inline><li>4039</li><li>2350</li><li>2172</li><li>3966</li><li>4703</li><li>4603</li><li>4856</li><li>3088</li><li>2829</li><li>2108</li><li>3838</li><li>2259</li><li>703</li><li>3923</li><li>1166</li><li>1355</li><li>2447</li><li>3169</li><li>2459</li><li>1145</li><li>1559</li><li>3626</li><li>4061</li><li>1763</li><li>2155</li></ol>\n"
            ],
            "text/markdown": "1. 4039\n2. 2350\n3. 2172\n4. 3966\n5. 4703\n6. 4603\n7. 4856\n8. 3088\n9. 2829\n10. 2108\n11. 3838\n12. 2259\n13. 703\n14. 3923\n15. 1166\n16. 1355\n17. 2447\n18. 3169\n19. 2459\n20. 1145\n21. 1559\n22. 3626\n23. 4061\n24. 1763\n25. 2155\n\n\n",
            "text/latex": "\\begin{enumerate*}\n\\item 4039\n\\item 2350\n\\item 2172\n\\item 3966\n\\item 4703\n\\item 4603\n\\item 4856\n\\item 3088\n\\item 2829\n\\item 2108\n\\item 3838\n\\item 2259\n\\item 703\n\\item 3923\n\\item 1166\n\\item 1355\n\\item 2447\n\\item 3169\n\\item 2459\n\\item 1145\n\\item 1559\n\\item 3626\n\\item 4061\n\\item 1763\n\\item 2155\n\\end{enumerate*}\n",
            "text/plain": [
              " [1] 4039 2350 2172 3966 4703 4603 4856 3088 2829 2108 3838 2259  703 3923 1166\n",
              "[16] 1355 2447 3169 2459 1145 1559 3626 4061 1763 2155"
            ]
          },
          "metadata": {}
        }
      ]
    },
    {
      "cell_type": "code",
      "source": [
        "# Base de datos simulada\n",
        "base_datos <- data.frame(\n",
        "  Departamento = departamentos,\n",
        "  Consumo = sample(100:1000, length(departamentos), replace = TRUE),\n",
        "  Produccion = sample(500:5000, length(departamentos), replace = TRUE)\n",
        ")"
      ],
      "metadata": {
        "id": "74Sl8XDrK_ym"
      },
      "execution_count": 29,
      "outputs": []
    },
    {
      "cell_type": "markdown",
      "source": [
        "Ejercicio: Crear una base de datos con los nombres de los participantes de la clase, su sueldo promedio y numero propiedades"
      ],
      "metadata": {
        "id": "ptZnfS9qOr7H"
      }
    },
    {
      "cell_type": "code",
      "source": [
        "Nombres<-c('Deivis','Patricia','Witman','Eva','Gabriel','Gouri','Jose Carlos','Lita','Luis','Melqui','Rafael','Raul','Javier')"
      ],
      "metadata": {
        "id": "PndQt84rOrbw"
      },
      "execution_count": 31,
      "outputs": []
    },
    {
      "cell_type": "code",
      "source": [
        "class(Nombres)"
      ],
      "metadata": {
        "colab": {
          "base_uri": "https://localhost:8080/",
          "height": 34
        },
        "id": "K8RPRl69QDlP",
        "outputId": "19fa7fd7-cfe3-4d5a-be8a-7407cb35ba0f"
      },
      "execution_count": 32,
      "outputs": [
        {
          "output_type": "display_data",
          "data": {
            "text/html": [
              "'character'"
            ],
            "text/markdown": "'character'",
            "text/latex": "'character'",
            "text/plain": [
              "[1] \"character\""
            ]
          },
          "metadata": {}
        }
      ]
    },
    {
      "cell_type": "code",
      "source": [
        "bd <- data.frame(\n",
        "  nombres = Nombres,\n",
        "  sueldo = sample(15000:30000, length(Nombres), replace = TRUE),\n",
        "  propiedades = sample(0:5, length(Nombres), replace = TRUE)\n",
        ")\n",
        "bd"
      ],
      "metadata": {
        "colab": {
          "base_uri": "https://localhost:8080/",
          "height": 505
        },
        "id": "tJsdd8ASQDVI",
        "outputId": "caa7a9ad-9b86-4094-f184-9ab7596d6ba9"
      },
      "execution_count": 46,
      "outputs": [
        {
          "output_type": "display_data",
          "data": {
            "text/html": [
              "<table class=\"dataframe\">\n",
              "<caption>A data.frame: 13 × 3</caption>\n",
              "<thead>\n",
              "\t<tr><th scope=col>nombres</th><th scope=col>sueldo</th><th scope=col>propiedades</th></tr>\n",
              "\t<tr><th scope=col>&lt;chr&gt;</th><th scope=col>&lt;int&gt;</th><th scope=col>&lt;int&gt;</th></tr>\n",
              "</thead>\n",
              "<tbody>\n",
              "\t<tr><td>Deivis     </td><td>15458</td><td>4</td></tr>\n",
              "\t<tr><td>Patricia   </td><td>21659</td><td>1</td></tr>\n",
              "\t<tr><td>Witman     </td><td>26078</td><td>0</td></tr>\n",
              "\t<tr><td>Eva        </td><td>28623</td><td>1</td></tr>\n",
              "\t<tr><td>Gabriel    </td><td>28873</td><td>2</td></tr>\n",
              "\t<tr><td>Gouri      </td><td>26131</td><td>2</td></tr>\n",
              "\t<tr><td>Jose Carlos</td><td>23330</td><td>1</td></tr>\n",
              "\t<tr><td>Lita       </td><td>24973</td><td>1</td></tr>\n",
              "\t<tr><td>Luis       </td><td>15480</td><td>3</td></tr>\n",
              "\t<tr><td>Melqui     </td><td>24034</td><td>4</td></tr>\n",
              "\t<tr><td>Rafael     </td><td>25043</td><td>1</td></tr>\n",
              "\t<tr><td>Raul       </td><td>27537</td><td>2</td></tr>\n",
              "\t<tr><td>Javier     </td><td>27005</td><td>5</td></tr>\n",
              "</tbody>\n",
              "</table>\n"
            ],
            "text/markdown": "\nA data.frame: 13 × 3\n\n| nombres &lt;chr&gt; | sueldo &lt;int&gt; | propiedades &lt;int&gt; |\n|---|---|---|\n| Deivis      | 15458 | 4 |\n| Patricia    | 21659 | 1 |\n| Witman      | 26078 | 0 |\n| Eva         | 28623 | 1 |\n| Gabriel     | 28873 | 2 |\n| Gouri       | 26131 | 2 |\n| Jose Carlos | 23330 | 1 |\n| Lita        | 24973 | 1 |\n| Luis        | 15480 | 3 |\n| Melqui      | 24034 | 4 |\n| Rafael      | 25043 | 1 |\n| Raul        | 27537 | 2 |\n| Javier      | 27005 | 5 |\n\n",
            "text/latex": "A data.frame: 13 × 3\n\\begin{tabular}{lll}\n nombres & sueldo & propiedades\\\\\n <chr> & <int> & <int>\\\\\n\\hline\n\t Deivis      & 15458 & 4\\\\\n\t Patricia    & 21659 & 1\\\\\n\t Witman      & 26078 & 0\\\\\n\t Eva         & 28623 & 1\\\\\n\t Gabriel     & 28873 & 2\\\\\n\t Gouri       & 26131 & 2\\\\\n\t Jose Carlos & 23330 & 1\\\\\n\t Lita        & 24973 & 1\\\\\n\t Luis        & 15480 & 3\\\\\n\t Melqui      & 24034 & 4\\\\\n\t Rafael      & 25043 & 1\\\\\n\t Raul        & 27537 & 2\\\\\n\t Javier      & 27005 & 5\\\\\n\\end{tabular}\n",
            "text/plain": [
              "   nombres     sueldo propiedades\n",
              "1  Deivis      15458  4          \n",
              "2  Patricia    21659  1          \n",
              "3  Witman      26078  0          \n",
              "4  Eva         28623  1          \n",
              "5  Gabriel     28873  2          \n",
              "6  Gouri       26131  2          \n",
              "7  Jose Carlos 23330  1          \n",
              "8  Lita        24973  1          \n",
              "9  Luis        15480  3          \n",
              "10 Melqui      24034  4          \n",
              "11 Rafael      25043  1          \n",
              "12 Raul        27537  2          \n",
              "13 Javier      27005  5          "
            ]
          },
          "metadata": {}
        }
      ]
    },
    {
      "cell_type": "code",
      "source": [
        "# a) Filtrar participante con sueldo > 18000\n",
        "filtro1 <- subset(bd, sueldo > 18000)\n",
        "print(filtro1)"
      ],
      "metadata": {
        "colab": {
          "base_uri": "https://localhost:8080/",
          "height": 0
        },
        "id": "uo7Ncp1HSD4a",
        "outputId": "16533064-011d-4d6e-bad7-6e51c42b4bd3"
      },
      "execution_count": 47,
      "outputs": [
        {
          "output_type": "stream",
          "name": "stdout",
          "text": [
            "       nombres sueldo propiedades\n",
            "2     Patricia  21659           1\n",
            "3       Witman  26078           0\n",
            "4          Eva  28623           1\n",
            "5      Gabriel  28873           2\n",
            "6        Gouri  26131           2\n",
            "7  Jose Carlos  23330           1\n",
            "8         Lita  24973           1\n",
            "10      Melqui  24034           4\n",
            "11      Rafael  25043           1\n",
            "12        Raul  27537           2\n",
            "13      Javier  27005           5\n"
          ]
        }
      ]
    },
    {
      "cell_type": "code",
      "source": [
        "# b) Filtrar participante con consumo < 17000\n",
        "filtro2 <- subset(bd, sueldo < 17000)\n",
        "print(filtro2)"
      ],
      "metadata": {
        "colab": {
          "base_uri": "https://localhost:8080/",
          "height": 0
        },
        "id": "Y4ta_UcXSaUw",
        "outputId": "6e2aab56-2351-4c9b-fa76-73febfc92b2a"
      },
      "execution_count": 48,
      "outputs": [
        {
          "output_type": "stream",
          "name": "stdout",
          "text": [
            "  nombres sueldo propiedades\n",
            "1  Deivis  15458           4\n",
            "9    Luis  15480           3\n"
          ]
        }
      ]
    },
    {
      "cell_type": "code",
      "source": [
        "# c) Ordenar por sueldo (de mayor a menor)\n",
        "bd_ordenado <- bd[order(-bd$sueldo), ]\n",
        "print(bd_ordenado)"
      ],
      "metadata": {
        "colab": {
          "base_uri": "https://localhost:8080/",
          "height": 0
        },
        "id": "TOQEthdCT40x",
        "outputId": "782a2f80-437e-4274-8fe7-251020b78b7d"
      },
      "execution_count": 49,
      "outputs": [
        {
          "output_type": "stream",
          "name": "stdout",
          "text": [
            "       nombres sueldo propiedades\n",
            "5      Gabriel  28873           2\n",
            "4          Eva  28623           1\n",
            "12        Raul  27537           2\n",
            "13      Javier  27005           5\n",
            "6        Gouri  26131           2\n",
            "3       Witman  26078           0\n",
            "11      Rafael  25043           1\n",
            "8         Lita  24973           1\n",
            "10      Melqui  24034           4\n",
            "7  Jose Carlos  23330           1\n",
            "2     Patricia  21659           1\n",
            "9         Luis  15480           3\n",
            "1       Deivis  15458           4\n"
          ]
        }
      ]
    },
    {
      "cell_type": "code",
      "source": [
        "# d) Crear una nueva columna: hijos\n",
        "bd$hijos <- sample(1:5, length(Nombres), replace = TRUE)\n",
        "bd"
      ],
      "metadata": {
        "colab": {
          "base_uri": "https://localhost:8080/",
          "height": 505
        },
        "id": "bS8d9v3eUbbb",
        "outputId": "f1bb6b67-8b8b-4e9e-fbce-e5925f4ed54b"
      },
      "execution_count": 50,
      "outputs": [
        {
          "output_type": "display_data",
          "data": {
            "text/html": [
              "<table class=\"dataframe\">\n",
              "<caption>A data.frame: 13 × 4</caption>\n",
              "<thead>\n",
              "\t<tr><th scope=col>nombres</th><th scope=col>sueldo</th><th scope=col>propiedades</th><th scope=col>hijos</th></tr>\n",
              "\t<tr><th scope=col>&lt;chr&gt;</th><th scope=col>&lt;int&gt;</th><th scope=col>&lt;int&gt;</th><th scope=col>&lt;int&gt;</th></tr>\n",
              "</thead>\n",
              "<tbody>\n",
              "\t<tr><td>Deivis     </td><td>15458</td><td>4</td><td>5</td></tr>\n",
              "\t<tr><td>Patricia   </td><td>21659</td><td>1</td><td>3</td></tr>\n",
              "\t<tr><td>Witman     </td><td>26078</td><td>0</td><td>3</td></tr>\n",
              "\t<tr><td>Eva        </td><td>28623</td><td>1</td><td>2</td></tr>\n",
              "\t<tr><td>Gabriel    </td><td>28873</td><td>2</td><td>2</td></tr>\n",
              "\t<tr><td>Gouri      </td><td>26131</td><td>2</td><td>1</td></tr>\n",
              "\t<tr><td>Jose Carlos</td><td>23330</td><td>1</td><td>3</td></tr>\n",
              "\t<tr><td>Lita       </td><td>24973</td><td>1</td><td>5</td></tr>\n",
              "\t<tr><td>Luis       </td><td>15480</td><td>3</td><td>3</td></tr>\n",
              "\t<tr><td>Melqui     </td><td>24034</td><td>4</td><td>5</td></tr>\n",
              "\t<tr><td>Rafael     </td><td>25043</td><td>1</td><td>1</td></tr>\n",
              "\t<tr><td>Raul       </td><td>27537</td><td>2</td><td>2</td></tr>\n",
              "\t<tr><td>Javier     </td><td>27005</td><td>5</td><td>4</td></tr>\n",
              "</tbody>\n",
              "</table>\n"
            ],
            "text/markdown": "\nA data.frame: 13 × 4\n\n| nombres &lt;chr&gt; | sueldo &lt;int&gt; | propiedades &lt;int&gt; | hijos &lt;int&gt; |\n|---|---|---|---|\n| Deivis      | 15458 | 4 | 5 |\n| Patricia    | 21659 | 1 | 3 |\n| Witman      | 26078 | 0 | 3 |\n| Eva         | 28623 | 1 | 2 |\n| Gabriel     | 28873 | 2 | 2 |\n| Gouri       | 26131 | 2 | 1 |\n| Jose Carlos | 23330 | 1 | 3 |\n| Lita        | 24973 | 1 | 5 |\n| Luis        | 15480 | 3 | 3 |\n| Melqui      | 24034 | 4 | 5 |\n| Rafael      | 25043 | 1 | 1 |\n| Raul        | 27537 | 2 | 2 |\n| Javier      | 27005 | 5 | 4 |\n\n",
            "text/latex": "A data.frame: 13 × 4\n\\begin{tabular}{llll}\n nombres & sueldo & propiedades & hijos\\\\\n <chr> & <int> & <int> & <int>\\\\\n\\hline\n\t Deivis      & 15458 & 4 & 5\\\\\n\t Patricia    & 21659 & 1 & 3\\\\\n\t Witman      & 26078 & 0 & 3\\\\\n\t Eva         & 28623 & 1 & 2\\\\\n\t Gabriel     & 28873 & 2 & 2\\\\\n\t Gouri       & 26131 & 2 & 1\\\\\n\t Jose Carlos & 23330 & 1 & 3\\\\\n\t Lita        & 24973 & 1 & 5\\\\\n\t Luis        & 15480 & 3 & 3\\\\\n\t Melqui      & 24034 & 4 & 5\\\\\n\t Rafael      & 25043 & 1 & 1\\\\\n\t Raul        & 27537 & 2 & 2\\\\\n\t Javier      & 27005 & 5 & 4\\\\\n\\end{tabular}\n",
            "text/plain": [
              "   nombres     sueldo propiedades hijos\n",
              "1  Deivis      15458  4           5    \n",
              "2  Patricia    21659  1           3    \n",
              "3  Witman      26078  0           3    \n",
              "4  Eva         28623  1           2    \n",
              "5  Gabriel     28873  2           2    \n",
              "6  Gouri       26131  2           1    \n",
              "7  Jose Carlos 23330  1           3    \n",
              "8  Lita        24973  1           5    \n",
              "9  Luis        15480  3           3    \n",
              "10 Melqui      24034  4           5    \n",
              "11 Rafael      25043  1           1    \n",
              "12 Raul        27537  2           2    \n",
              "13 Javier      27005  5           4    "
            ]
          },
          "metadata": {}
        }
      ]
    },
    {
      "cell_type": "code",
      "source": [
        "# e) Clasificar participantes por categoria\n",
        "bd$categoria <- ifelse(bd$hijos > 2, \"Alta carga familiar\", \"Baja carga familiar\")\n",
        "bd"
      ],
      "metadata": {
        "colab": {
          "base_uri": "https://localhost:8080/",
          "height": 505
        },
        "id": "R8rD4Dh1VT3A",
        "outputId": "dbe82eae-2f44-42a8-ff5a-a3915cc5894f"
      },
      "execution_count": 51,
      "outputs": [
        {
          "output_type": "display_data",
          "data": {
            "text/html": [
              "<table class=\"dataframe\">\n",
              "<caption>A data.frame: 13 × 5</caption>\n",
              "<thead>\n",
              "\t<tr><th scope=col>nombres</th><th scope=col>sueldo</th><th scope=col>propiedades</th><th scope=col>hijos</th><th scope=col>categoria</th></tr>\n",
              "\t<tr><th scope=col>&lt;chr&gt;</th><th scope=col>&lt;int&gt;</th><th scope=col>&lt;int&gt;</th><th scope=col>&lt;int&gt;</th><th scope=col>&lt;chr&gt;</th></tr>\n",
              "</thead>\n",
              "<tbody>\n",
              "\t<tr><td>Deivis     </td><td>15458</td><td>4</td><td>5</td><td>Alta carga familiar</td></tr>\n",
              "\t<tr><td>Patricia   </td><td>21659</td><td>1</td><td>3</td><td>Alta carga familiar</td></tr>\n",
              "\t<tr><td>Witman     </td><td>26078</td><td>0</td><td>3</td><td>Alta carga familiar</td></tr>\n",
              "\t<tr><td>Eva        </td><td>28623</td><td>1</td><td>2</td><td>Baja carga familiar</td></tr>\n",
              "\t<tr><td>Gabriel    </td><td>28873</td><td>2</td><td>2</td><td>Baja carga familiar</td></tr>\n",
              "\t<tr><td>Gouri      </td><td>26131</td><td>2</td><td>1</td><td>Baja carga familiar</td></tr>\n",
              "\t<tr><td>Jose Carlos</td><td>23330</td><td>1</td><td>3</td><td>Alta carga familiar</td></tr>\n",
              "\t<tr><td>Lita       </td><td>24973</td><td>1</td><td>5</td><td>Alta carga familiar</td></tr>\n",
              "\t<tr><td>Luis       </td><td>15480</td><td>3</td><td>3</td><td>Alta carga familiar</td></tr>\n",
              "\t<tr><td>Melqui     </td><td>24034</td><td>4</td><td>5</td><td>Alta carga familiar</td></tr>\n",
              "\t<tr><td>Rafael     </td><td>25043</td><td>1</td><td>1</td><td>Baja carga familiar</td></tr>\n",
              "\t<tr><td>Raul       </td><td>27537</td><td>2</td><td>2</td><td>Baja carga familiar</td></tr>\n",
              "\t<tr><td>Javier     </td><td>27005</td><td>5</td><td>4</td><td>Alta carga familiar</td></tr>\n",
              "</tbody>\n",
              "</table>\n"
            ],
            "text/markdown": "\nA data.frame: 13 × 5\n\n| nombres &lt;chr&gt; | sueldo &lt;int&gt; | propiedades &lt;int&gt; | hijos &lt;int&gt; | categoria &lt;chr&gt; |\n|---|---|---|---|---|\n| Deivis      | 15458 | 4 | 5 | Alta carga familiar |\n| Patricia    | 21659 | 1 | 3 | Alta carga familiar |\n| Witman      | 26078 | 0 | 3 | Alta carga familiar |\n| Eva         | 28623 | 1 | 2 | Baja carga familiar |\n| Gabriel     | 28873 | 2 | 2 | Baja carga familiar |\n| Gouri       | 26131 | 2 | 1 | Baja carga familiar |\n| Jose Carlos | 23330 | 1 | 3 | Alta carga familiar |\n| Lita        | 24973 | 1 | 5 | Alta carga familiar |\n| Luis        | 15480 | 3 | 3 | Alta carga familiar |\n| Melqui      | 24034 | 4 | 5 | Alta carga familiar |\n| Rafael      | 25043 | 1 | 1 | Baja carga familiar |\n| Raul        | 27537 | 2 | 2 | Baja carga familiar |\n| Javier      | 27005 | 5 | 4 | Alta carga familiar |\n\n",
            "text/latex": "A data.frame: 13 × 5\n\\begin{tabular}{lllll}\n nombres & sueldo & propiedades & hijos & categoria\\\\\n <chr> & <int> & <int> & <int> & <chr>\\\\\n\\hline\n\t Deivis      & 15458 & 4 & 5 & Alta carga familiar\\\\\n\t Patricia    & 21659 & 1 & 3 & Alta carga familiar\\\\\n\t Witman      & 26078 & 0 & 3 & Alta carga familiar\\\\\n\t Eva         & 28623 & 1 & 2 & Baja carga familiar\\\\\n\t Gabriel     & 28873 & 2 & 2 & Baja carga familiar\\\\\n\t Gouri       & 26131 & 2 & 1 & Baja carga familiar\\\\\n\t Jose Carlos & 23330 & 1 & 3 & Alta carga familiar\\\\\n\t Lita        & 24973 & 1 & 5 & Alta carga familiar\\\\\n\t Luis        & 15480 & 3 & 3 & Alta carga familiar\\\\\n\t Melqui      & 24034 & 4 & 5 & Alta carga familiar\\\\\n\t Rafael      & 25043 & 1 & 1 & Baja carga familiar\\\\\n\t Raul        & 27537 & 2 & 2 & Baja carga familiar\\\\\n\t Javier      & 27005 & 5 & 4 & Alta carga familiar\\\\\n\\end{tabular}\n",
            "text/plain": [
              "   nombres     sueldo propiedades hijos categoria          \n",
              "1  Deivis      15458  4           5     Alta carga familiar\n",
              "2  Patricia    21659  1           3     Alta carga familiar\n",
              "3  Witman      26078  0           3     Alta carga familiar\n",
              "4  Eva         28623  1           2     Baja carga familiar\n",
              "5  Gabriel     28873  2           2     Baja carga familiar\n",
              "6  Gouri       26131  2           1     Baja carga familiar\n",
              "7  Jose Carlos 23330  1           3     Alta carga familiar\n",
              "8  Lita        24973  1           5     Alta carga familiar\n",
              "9  Luis        15480  3           3     Alta carga familiar\n",
              "10 Melqui      24034  4           5     Alta carga familiar\n",
              "11 Rafael      25043  1           1     Baja carga familiar\n",
              "12 Raul        27537  2           2     Baja carga familiar\n",
              "13 Javier      27005  5           4     Alta carga familiar"
            ]
          },
          "metadata": {}
        }
      ]
    },
    {
      "cell_type": "code",
      "source": [
        "# f) Contar cuántos participantes tiene alta o baja carga familiar\n",
        "table(bd$categoria)"
      ],
      "metadata": {
        "colab": {
          "base_uri": "https://localhost:8080/",
          "height": 69
        },
        "id": "yLA_wBHNV9Nz",
        "outputId": "f74d3f2f-bfc0-4a3b-f801-243c1027d9bc"
      },
      "execution_count": 52,
      "outputs": [
        {
          "output_type": "display_data",
          "data": {
            "text/plain": [
              "\n",
              "Alta carga familiar Baja carga familiar \n",
              "                  8                   5 "
            ]
          },
          "metadata": {}
        }
      ]
    },
    {
      "cell_type": "code",
      "source": [
        "# g) Resumen estadístico de todas las variables numéricas\n",
        "summary(bd[, c(\"sueldo\", \"propiedades\", \"hijos\")])"
      ],
      "metadata": {
        "colab": {
          "base_uri": "https://localhost:8080/",
          "height": 139
        },
        "id": "pEniYkFWWMSM",
        "outputId": "4dc6686e-be85-4568-d308-ada3439967e7"
      },
      "execution_count": 53,
      "outputs": [
        {
          "output_type": "display_data",
          "data": {
            "text/plain": [
              "     sueldo       propiedades        hijos  \n",
              " Min.   :15458   Min.   :0.000   Min.   :1  \n",
              " 1st Qu.:23330   1st Qu.:1.000   1st Qu.:2  \n",
              " Median :25043   Median :2.000   Median :3  \n",
              " Mean   :24171   Mean   :2.077   Mean   :3  \n",
              " 3rd Qu.:27005   3rd Qu.:3.000   3rd Qu.:4  \n",
              " Max.   :28873   Max.   :5.000   Max.   :5  "
            ]
          },
          "metadata": {}
        }
      ]
    },
    {
      "cell_type": "code",
      "source": [
        "# h) Top 3 de participantes con mayores sueldos\n",
        "bd_top3 <- head(bd[order(-bd$sueldo), ], 3)\n",
        "print(bd_top3)"
      ],
      "metadata": {
        "colab": {
          "base_uri": "https://localhost:8080/",
          "height": 0
        },
        "id": "brfQThOgW_FC",
        "outputId": "a8e7cda7-e851-4414-f4d6-1e1de2b4fec7"
      },
      "execution_count": 56,
      "outputs": [
        {
          "output_type": "stream",
          "name": "stdout",
          "text": [
            "   nombres sueldo propiedades hijos           categoria\n",
            "5  Gabriel  28873           2     2 Baja carga familiar\n",
            "4      Eva  28623           1     2 Baja carga familiar\n",
            "12    Raul  27537           2     2 Baja carga familiar\n"
          ]
        }
      ]
    },
    {
      "cell_type": "code",
      "source": [
        "# i) Promedio de sueldo e hijos por categoría\n",
        "promedios_categoria <- aggregate(cbind(sueldo,hijos) ~ categoria,\n",
        "                                 data = bd,\n",
        "                                 FUN = mean, na.rm = TRUE)\n",
        "print(promedios_categoria)"
      ],
      "metadata": {
        "colab": {
          "base_uri": "https://localhost:8080/",
          "height": 0
        },
        "id": "jyEFHeMgXz6b",
        "outputId": "3aab9e7f-cd24-470a-d932-a2d4c9bedf07"
      },
      "execution_count": 57,
      "outputs": [
        {
          "output_type": "stream",
          "name": "stdout",
          "text": [
            "            categoria   sueldo hijos\n",
            "1 Alta carga familiar 22252.12 3.875\n",
            "2 Baja carga familiar 27241.40 1.600\n"
          ]
        }
      ]
    },
    {
      "cell_type": "code",
      "source": [
        "class(base_datos)"
      ],
      "metadata": {
        "colab": {
          "base_uri": "https://localhost:8080/",
          "height": 34
        },
        "id": "ZWKe1RqALCOl",
        "outputId": "a57c05c3-ea4a-4a0c-9988-f5b86454ac16"
      },
      "execution_count": 30,
      "outputs": [
        {
          "output_type": "display_data",
          "data": {
            "text/html": [
              "'data.frame'"
            ],
            "text/markdown": "'data.frame'",
            "text/latex": "'data.frame'",
            "text/plain": [
              "[1] \"data.frame\""
            ]
          },
          "metadata": {}
        }
      ]
    },
    {
      "cell_type": "code",
      "source": [
        "# ============================================================================ #\n",
        "# Manipulacion de datos\n",
        "# ============================================================================ #\n",
        "\n",
        "# Lista de departamentos del Perú\n",
        "departamentos <- c(\"Amazonas\", \"Áncash\", \"Apurímac\", \"Arequipa\", \"Ayacucho\",\n",
        "                   \"Cajamarca\", \"Callao\", \"Cusco\", \"Huancavelica\", \"Huánuco\",\n",
        "                   \"Ica\", \"Junín\", \"La Libertad\", \"Lambayeque\", \"Lima\",\n",
        "                   \"Loreto\", \"Madre de Dios\", \"Moquegua\", \"Pasco\", \"Piura\",\n",
        "                   \"Puno\", \"San Martín\", \"Tacna\", \"Tumbes\", \"Ucayali\")\n",
        "\n",
        "# Semilla para reproducibilidad\n",
        "set.seed(123)\n",
        "\n",
        "# Base de datos simulada\n",
        "base_datos <- data.frame(\n",
        "  Departamento = departamentos,\n",
        "  Consumo = sample(100:1000, length(departamentos), replace = TRUE),\n",
        "  Produccion = sample(500:5000, length(departamentos), replace = TRUE)\n",
        ")\n",
        "\n",
        "# Vista rápida\n",
        "head(base_datos)"
      ],
      "metadata": {
        "id": "gGAPciHIKeU6"
      },
      "execution_count": null,
      "outputs": []
    },
    {
      "cell_type": "code",
      "source": [
        "\n",
        "#%%R\n",
        "\n",
        "set.seed(42)\n",
        "n_obs <- 20 # Número de observaciones\n",
        "df_original <- data.frame(\n",
        "  var_a = rnorm(n_obs, mean = 10, sd = 3),\n",
        "  var_b = rnorm(n_obs, mean = 50, sd = 10),\n",
        "  var_c = rnorm(n_obs, mean = 100, sd = 20),\n",
        "  var_d = rnorm(n_obs, mean = 5, sd = 1)\n",
        ")\n",
        "\n",
        "print(summary(df_original))"
      ],
      "metadata": {
        "colab": {
          "base_uri": "https://localhost:8080/",
          "height": 0
        },
        "id": "sYiXmQ30x1pQ",
        "outputId": "e63983df-d279-4fbe-89e8-6c2e400872d2"
      },
      "execution_count": 2,
      "outputs": [
        {
          "output_type": "stream",
          "name": "stdout",
          "text": [
            "     var_a            var_b           var_c            var_d      \n",
            " Min.   : 2.031   Min.   :25.86   Min.   : 40.14   Min.   :3.900  \n",
            " 1st Qu.: 9.160   1st Qu.:41.99   1st Qu.: 89.89   1st Qu.:4.411  \n",
            " Median :10.451   Median :47.18   Median :104.83   Median :5.400  \n",
            " Mean   :10.576   Mean   :47.29   Mean   : 99.98   Mean   :5.161  \n",
            " 3rd Qu.:13.926   3rd Qu.:54.71   3rd Qu.:112.92   3rd Qu.:5.733  \n",
            " Max.   :16.860   Max.   :68.95   Max.   :131.51   Max.   :6.400  \n"
          ]
        }
      ]
    },
    {
      "cell_type": "code",
      "source": [
        "print(n_obs)"
      ],
      "metadata": {
        "colab": {
          "base_uri": "https://localhost:8080/",
          "height": 0
        },
        "id": "rv6ZUaS3IsRz",
        "outputId": "3d6aebd7-4b9f-41db-f91f-b38281b6b730"
      },
      "execution_count": 3,
      "outputs": [
        {
          "output_type": "stream",
          "name": "stdout",
          "text": [
            "[1] 20\n"
          ]
        }
      ]
    },
    {
      "cell_type": "code",
      "source": [
        "#%%R\n",
        "\n",
        "# ¿Como podemos escalar una variable?\n",
        "# En este caso emplearemos el min-max\n",
        "\n",
        "min_a <- min(df_original$var_a)\n",
        "max_a <- max(df_original$var_a)\n",
        "\n",
        "df_original$var_a_scaled <- (df_original$var_a - min_a) / (max_a - min_a)\n",
        "\n",
        "print(head(df_original$var_a_scaled))\n",
        "# print(summary(df_original$var_a_scaled))\n"
      ],
      "metadata": {
        "colab": {
          "base_uri": "https://localhost:8080/"
        },
        "id": "0Tu6JPP-zLt6",
        "outputId": "473c8ed9-5a6d-41bf-eb52-fedb460239b9"
      },
      "execution_count": null,
      "outputs": [
        {
          "output_type": "stream",
          "name": "stdout",
          "text": [
            "[1] 0.8147545 0.4231670 0.6108683 0.6654362 0.6191910 0.5159375\n"
          ]
        }
      ]
    },
    {
      "cell_type": "code",
      "source": [
        "#%%R\n",
        "x_ejm <- df_original$var_a\n",
        "\n",
        "rango_x <- range(x_ejm, na.rm=TRUE, finite=TRUE)\n",
        "print(rango_x)\n",
        "\n",
        "print(paste(\"Min: \", rango_x[1]))\n",
        "print(paste(\"Max: \", rango_x[2]))\n",
        "\n",
        "(x_ejm - rango_x[1]) / (rango_x[2] - rango_x[1])"
      ],
      "metadata": {
        "colab": {
          "base_uri": "https://localhost:8080/"
        },
        "id": "ynii3uxNzcYX",
        "outputId": "806f347e-df48-4f2a-9876-62883b53e1c7"
      },
      "execution_count": null,
      "outputs": [
        {
          "output_type": "stream",
          "name": "stdout",
          "text": [
            "[1]  2.030634 16.859936\n",
            "[1] \"Min:  2.03063373728567\"\n",
            "[1] \"Max:  16.8599361781033\"\n"
          ]
        }
      ]
    },
    {
      "cell_type": "markdown",
      "source": [
        "##### 1. Funciones"
      ],
      "metadata": {
        "id": "k4THR5gGPtN0"
      }
    },
    {
      "cell_type": "code",
      "source": [
        "%%R\n",
        "\n",
        "#===============================================================================\n",
        "# Funciones\n",
        "#===============================================================================\n",
        "\n",
        "# Definición de una función en R:\n",
        "#   nombre_funcion <- function(arg1, arg2, ...) {\n",
        "#     instrucciones\n",
        "#   }\n",
        "#\n",
        "# Explicación:\n",
        "# - El cuerpo de la función contiene el código que se ejecuta al llamarla.\n",
        "# - Los argumentos (arg1, arg2, ...) son los valores de entrada que la función recibe.\n",
        "# - La instrucción return() indica explícitamente qué valor debe devolver la función.\n",
        "# - Si no se usa return(), R devuelve automáticamente el resultado de la última expresión evaluada."
      ],
      "metadata": {
        "id": "DUAdPbuZ0ww1"
      },
      "execution_count": null,
      "outputs": []
    },
    {
      "cell_type": "code",
      "source": [
        "%%R\n",
        "\n",
        "escalamiento_minmax <- function(x) {\n",
        "  # Calcular mínimo y máximo, ignorando NA e infinitos\n",
        "  limites <- range(x, na.rm = TRUE, finite = TRUE)\n",
        "\n",
        "  # Aplicar la fórmula de reescalamiento\n",
        "  x_reescalado <- (x - limites[1]) / (limites[2] - limites[1])\n",
        "\n",
        "  return(x_reescalado)\n",
        "}"
      ],
      "metadata": {
        "id": "vOiaGkrT2CF7"
      },
      "execution_count": null,
      "outputs": []
    },
    {
      "cell_type": "code",
      "source": [
        "%%R\n",
        "## Probamos nuestra función\n",
        "\n",
        "print(escalamiento_minmax(c(1, 2, 3, 4, 5, 6, 7, 8, 9, 10)))\n",
        "print(escalamiento_minmax(rnorm(10, mean = 5, sd = 3))) # N?meros aleatorios\n",
        "print(escalamiento_minmax(c(1, 2, 3, 4, NA, 5, 6, 7, 8, 9, 10))) # Con un valor NA\n",
        "print(escalamiento_minmax(c(1, 2, 3, 4, NA, 5, -Inf, NaN))) # Con NA, Inf y NaN (NaN es Not a Number)"
      ],
      "metadata": {
        "colab": {
          "base_uri": "https://localhost:8080/"
        },
        "id": "52J3RUWj2L_D",
        "outputId": "453c4641-c4d9-4dcf-c7b4-1345b4731837"
      },
      "execution_count": null,
      "outputs": [
        {
          "output_type": "stream",
          "name": "stdout",
          "text": [
            " [1] 0.0000000 0.1111111 0.2222222 0.3333333 0.4444444 0.5555556 0.6666667\n",
            " [8] 0.7777778 0.8888889 1.0000000\n",
            " [1] 1.0000000 0.5364725 0.4738648 0.3965342 0.0000000 0.6672707 0.3609812\n",
            " [8] 0.3736826 0.7859797 0.7447637\n",
            " [1] 0.0000000 0.1111111 0.2222222 0.3333333        NA 0.4444444 0.5555556\n",
            " [8] 0.6666667 0.7777778 0.8888889 1.0000000\n",
            "[1] 0.00 0.25 0.50 0.75   NA 1.00 -Inf  NaN\n"
          ]
        }
      ]
    },
    {
      "cell_type": "code",
      "source": [
        "%%R\n",
        "\n",
        "df_reescalado <- df_original # Creamos una copia para no modificar el original\n",
        "df_reescalado$var_a <- escalamiento_minmax(df_reescalado$var_a)\n",
        "df_reescalado$var_b <- escalamiento_minmax(df_reescalado$var_b)\n",
        "df_reescalado$var_c <- escalamiento_minmax(df_reescalado$var_c)\n",
        "df_reescalado$var_d <- escalamiento_minmax(df_reescalado$var_d)"
      ],
      "metadata": {
        "id": "hBCuMAex2wlw"
      },
      "execution_count": null,
      "outputs": []
    },
    {
      "cell_type": "code",
      "source": [
        "%%R\n",
        "\n",
        "print(head(df_reescalado))\n",
        "print(summary(df_reescalado))"
      ],
      "metadata": {
        "colab": {
          "base_uri": "https://localhost:8080/"
        },
        "id": "D23opPlX4ozQ",
        "outputId": "ab9d9947-45c3-4d7c-e756-ccb79bb615d1"
      },
      "execution_count": null,
      "outputs": [
        {
          "output_type": "stream",
          "name": "stdout",
          "text": [
            "      var_a     var_b     var_c     var_d var_a_scaled\n",
            "1 0.8147545 0.4890631 0.7002006 0.2930750    0.8147545\n",
            "2 0.4231670 0.1468648 0.5760862 0.5141038    0.4231670\n",
            "3 0.6108683 0.5203253 0.8210556 0.6727716    0.6108683\n",
            "4 0.6654362 0.8420851 0.4960551 1.0000000    0.6654362\n",
            "5 0.6191910 1.0000000 0.3556301 0.1490243    0.6191910\n",
            "6 0.5159375 0.4603281 0.7498457 0.9611148    0.5159375\n",
            "     var_a            var_b            var_c            var_d       \n",
            " Min.   :0.0000   Min.   :0.0000   Min.   :0.0000   Min.   :0.0000  \n",
            " 1st Qu.:0.4807   1st Qu.:0.3743   1st Qu.:0.5445   1st Qu.:0.2044  \n",
            " Median :0.5678   Median :0.4948   Median :0.7079   Median :0.6000  \n",
            " Mean   :0.5762   Mean   :0.4973   Mean   :0.6549   Mean   :0.5042  \n",
            " 3rd Qu.:0.8022   3rd Qu.:0.6696   3rd Qu.:0.7965   3rd Qu.:0.7331  \n",
            " Max.   :1.0000   Max.   :1.0000   Max.   :1.0000   Max.   :1.0000  \n",
            "  var_a_scaled   \n",
            " Min.   :0.0000  \n",
            " 1st Qu.:0.4807  \n",
            " Median :0.5678  \n",
            " Mean   :0.5762  \n",
            " 3rd Qu.:0.8022  \n",
            " Max.   :1.0000  \n"
          ]
        }
      ]
    },
    {
      "cell_type": "code",
      "source": [
        "%%R\n",
        "# Creamos una funcion para contar el numero total de NAs en dos obs\n",
        "\n",
        "sum_na<- function (vector1, vector2){\n",
        "    total_na <- sum(is.na(vector1)) + sum(is.na(vector2))\n",
        "    return (total_na)\n",
        "}\n",
        "\n",
        "# Ingresamos los inputs\n",
        "x_vec <- c(1:10, 4, NA, 30, NA, 15)\n",
        "y_vec <- c(1:5, NA, 5:1, NA, 3, 4, NA)"
      ],
      "metadata": {
        "id": "yfalZdHW5jW4"
      },
      "execution_count": null,
      "outputs": []
    },
    {
      "cell_type": "code",
      "source": [
        "%%R\n",
        "\n",
        "conteo_nas <- sum_na(x_vec, y_vec)\n",
        "print(paste(\"Número de NAs en ambos vectores:\", conteo_nas))"
      ],
      "metadata": {
        "colab": {
          "base_uri": "https://localhost:8080/"
        },
        "id": "2B4hsLsO6NAX",
        "outputId": "6a6acbca-eb7f-4c67-83a8-f62a5afea000"
      },
      "execution_count": null,
      "outputs": [
        {
          "output_type": "stream",
          "name": "stdout",
          "text": [
            "[1] \"Número de NAs en ambos vectores: 5\"\n"
          ]
        }
      ]
    },
    {
      "cell_type": "code",
      "source": [
        "%%R\n",
        "# Creamos una funcion para encontrar la posicion en la que aparece el NA\n",
        "\n",
        "primer_na_combinado <- function(vector1, vector2) {\n",
        "  # 'is.na(vector1) | is.na(vector2)' crea un vector l?gico donde TRUE indica\n",
        "  # que hay un NA en 'vector1' O en 'vector2' en esa posici?n.\n",
        "  total_na_logical <- is.na(vector1) | is.na(vector2)\n",
        "\n",
        "  # 'which(total_na_logical)' devuelve los ?ndices de los elementos que son TRUE.\n",
        "  # '[1]' toma el primer ?ndice de esa lista, que ser? la posici?n del primer NA.\n",
        "  primer_na_indice <- which(total_na_logical)[1]\n",
        "\n",
        "  # Si no hay NAs, 'which' devolver? un vector vac?o, y '[1]' ser? NA.\n",
        "  # Podemos a?adir una verificaci?n para un mensaje m?s claro:\n",
        "  if (is.na(primer_na_indice)) {\n",
        "    return(\"No se encontraron NAs en las posiciones combinadas.\")\n",
        "  } else {\n",
        "    return(paste(\"La posici?n del primer NA combinado es:\", primer_na_indice))\n",
        "  }\n",
        "}"
      ],
      "metadata": {
        "id": "IBhRvhFZGAo_"
      },
      "execution_count": null,
      "outputs": []
    },
    {
      "cell_type": "code",
      "source": [
        "%%R\n",
        "# Probamos con los mismos vectores 'x_vec' y 'y_vec':\n",
        "posicion_na <- primer_na_combinado(x_vec, y_vec)\n",
        "print(posicion_na) # Deber?a ser 6, ya que y_vec[6] es el primer NA.\n"
      ],
      "metadata": {
        "colab": {
          "base_uri": "https://localhost:8080/"
        },
        "id": "ulfOawmnGcCp",
        "outputId": "d78e8075-a710-4710-92ec-fef4c39e24c0"
      },
      "execution_count": null,
      "outputs": [
        {
          "output_type": "stream",
          "name": "stdout",
          "text": [
            "[1] \"La posici?n del primer NA combinado es: 6\"\n"
          ]
        }
      ]
    },
    {
      "cell_type": "code",
      "source": [
        "%%R\n",
        "# Probemos con vectores sin NAs:\n",
        "vec_sin_na1 <- 1:10\n",
        "vec_sin_na2 <- 11:20\n",
        "posicion_na_sin_na <- primer_na_combinado(vec_sin_na1, vec_sin_na2)\n",
        "print(posicion_na_sin_na)"
      ],
      "metadata": {
        "colab": {
          "base_uri": "https://localhost:8080/"
        },
        "id": "9f9x9RXeGuQr",
        "outputId": "0d6ff1c2-f99c-4437-c740-f9ff522f697c"
      },
      "execution_count": null,
      "outputs": [
        {
          "output_type": "stream",
          "name": "stdout",
          "text": [
            "[1] \"No se encontraron NAs en las posiciones combinadas.\"\n"
          ]
        }
      ]
    },
    {
      "cell_type": "code",
      "source": [
        "%%R\n",
        "\n",
        "# Función para listar posiciones de NA en dos vectores\n",
        "posiciones_na <- function(vector1, vector2) {\n",
        "  # Posiciones con NA en cada vector\n",
        "  na_v1 <- which(is.na(vector1))\n",
        "  na_v2 <- which(is.na(vector2))\n",
        "\n",
        "  # Posiciones donde al menos uno de los dos tiene NA\n",
        "  na_comb <- which(is.na(vector1) | is.na(vector2))\n",
        "\n",
        "  # Retornar como lista nombrada\n",
        "  return(list(\n",
        "    vector1 = na_v1,\n",
        "    vector2 = na_v2,\n",
        "    combinadas = na_comb\n",
        "  ))\n",
        "}\n",
        "\n",
        "# Ejemplo de uso\n",
        "x_vec <- c(1, 2, NA, 4, 5, 6, NA)\n",
        "y_vec <- c(10, NA, 30, 40, 50, NA, 70)\n",
        "\n",
        "resultado <- posiciones_na(x_vec, y_vec)\n",
        "print(resultado)"
      ],
      "metadata": {
        "colab": {
          "base_uri": "https://localhost:8080/"
        },
        "collapsed": true,
        "id": "zQFhisysHFhn",
        "outputId": "1f511eea-35fb-4189-847d-8491e7518ef8"
      },
      "execution_count": null,
      "outputs": [
        {
          "output_type": "stream",
          "name": "stdout",
          "text": [
            "$vector1\n",
            "[1] 3 7\n",
            "\n",
            "$vector2\n",
            "[1] 2 6\n",
            "\n",
            "$combinadas\n",
            "[1] 2 3 6 7\n",
            "\n"
          ]
        }
      ]
    },
    {
      "cell_type": "code",
      "source": [
        "%%R\n",
        "\n",
        "# Estadarizacion\n",
        "\n",
        "\n",
        "# Esta transformación convierte un vector numérico\n",
        "# a una escala con media = 0 y desviación estándar = 1.\n",
        "# Fórmula:\n",
        "#   z = (x - media) / desviación_estándar\n",
        "\n",
        "# Uso típico:\n",
        "#   - Comparar variables en distintas escalas\n",
        "#   - Preparar datos para algoritmos de machine learning\n",
        "# La función ignora valores NA en los cálculos de media y desviación.\n",
        "\n",
        "\n",
        "\n",
        "normalizar_z <- function(valores) {\n",
        "  # Calcular media y desviación estándar (excluyendo NAs)\n",
        "  media <- mean(valores, na.rm = TRUE)\n",
        "  desv <- sd(valores, na.rm = TRUE)\n",
        "\n",
        "  # Transformar a escala Z-score\n",
        "  z_scores <- (valores - media) / desv\n",
        "\n",
        "  return(z_scores)\n",
        "}\n"
      ],
      "metadata": {
        "id": "p_G5vEAXKKHl"
      },
      "execution_count": null,
      "outputs": []
    },
    {
      "cell_type": "code",
      "source": [
        "%%R\n",
        "\n",
        "# Probemos la funci?n con 'var_a' del data frame original.\n",
        "var_a_estandarizada <- normalizar_z(df_original$var_a)\n",
        "print(head(var_a_estandarizada))\n",
        "print(paste(\"Media:\", round(mean(var_a_estandarizada, na.rm = TRUE), 5)))\n",
        "print(paste(\"SD:\", round(sd(var_a_estandarizada, na.rm = TRUE), 5)))\n"
      ],
      "metadata": {
        "colab": {
          "base_uri": "https://localhost:8080/"
        },
        "id": "NGYkZtvaLEy9",
        "outputId": "5ad70e94-d1c7-4663-ef35-0655d8d82aae"
      },
      "execution_count": null,
      "outputs": [
        {
          "output_type": "stream",
          "name": "stdout",
          "text": [
            "[1]  0.8982271 -0.5764146  0.1304317  0.3359234  0.1617734 -0.2270593\n",
            "[1] \"Media: 0\"\n",
            "[1] \"SD: 1\"\n"
          ]
        }
      ]
    },
    {
      "cell_type": "markdown",
      "source": [
        "##### 2. Condicionales"
      ],
      "metadata": {
        "id": "6VOe1_3nUSN8"
      }
    },
    {
      "cell_type": "code",
      "source": [
        "%%R\n",
        "\n",
        "#===============================================================================\n",
        "# IF\n",
        "#===============================================================================\n",
        "# 'if' permite ejecutar un bloque de código si se cumple una condición.\n",
        "# Sintaxis:\n",
        "# if(condición) {\n",
        "#   # código si la condición es TRUE\n",
        "# }\n",
        "\n",
        "# if: se utiliza para ejecutar una acción solo si una condición se cumple."
      ],
      "metadata": {
        "colab": {
          "base_uri": "https://localhost:8080/"
        },
        "id": "f-0bpKhFMCPt",
        "outputId": "f35ea1fa-ab8f-44eb-ce7d-3bf88d03dfc3"
      },
      "execution_count": null,
      "outputs": [
        {
          "output_type": "stream",
          "name": "stdout",
          "text": [
            "[1] \"El número es positivo\"\n"
          ]
        }
      ]
    },
    {
      "cell_type": "code",
      "source": [
        "%%R\n",
        "\n",
        "# Ejemplo 1:\n",
        "x <- 7\n",
        "if(x > 5){\n",
        "  print(\"x es mayor que 5\")\n",
        "}"
      ],
      "metadata": {
        "id": "1tnSWy2uWYx8"
      },
      "execution_count": null,
      "outputs": []
    },
    {
      "cell_type": "code",
      "source": [
        "%%R\n",
        "\n",
        "# Ejemplo 2:\n",
        "# Función: verificar si un número es positivo\n",
        "es_positivo <- function(x) {\n",
        "  if (x > 0) {\n",
        "    return(\"El número es positivo\")\n",
        "  }\n",
        "  return(\"El número no es positivo\")\n",
        "}\n",
        "es_positivo(5)\n",
        "# es_positivo(-3)"
      ],
      "metadata": {
        "id": "Oqa8Oq4aWbbJ"
      },
      "execution_count": null,
      "outputs": []
    },
    {
      "cell_type": "code",
      "source": [
        "%%R\n",
        "\n",
        "#===============================================================================\n",
        "# IF... ELSE\n",
        "#===============================================================================\n",
        "# if ... else: útil para tomar una decisión entre dos caminos posibles.\n",
        "\n",
        "# Ejemplo 3:\n",
        "# Función: verificar si un número es par o impar\n",
        "par_o_impar <- function(x) {\n",
        "  if (x %% 2 == 0) {\n",
        "    return(\"Par\")\n",
        "  } else {\n",
        "    return(\"Impar\")\n",
        "  }\n",
        "}\n",
        "par_o_impar(4)\n",
        "par_o_impar(7)\n"
      ],
      "metadata": {
        "colab": {
          "base_uri": "https://localhost:8080/"
        },
        "id": "mlTdU4wDNm2f",
        "outputId": "f016047b-fbb5-4655-aa23-53979292d9de"
      },
      "execution_count": null,
      "outputs": [
        {
          "output_type": "stream",
          "name": "stdout",
          "text": [
            "[1] \"Impar\"\n"
          ]
        }
      ]
    },
    {
      "cell_type": "code",
      "source": [
        "%%R\n",
        "\n",
        "#===============================================================================\n",
        "# IF... ELSE IF...ELSE\n",
        "#===============================================================================\n",
        "# if con múltiples condiciones: para evaluar varias reglas dentro de la misma función.\n",
        "\n",
        "# Ejemplo 4:\n",
        "# Función: clasificar nota como \"aprobado\", \"recuperación\" o \"desaprobado\"\n",
        "clasificar_nota <- function(nota) {\n",
        "  if (nota >= 70) {\n",
        "    return(\"Aprobado\")\n",
        "  } else if (nota >= 50) {\n",
        "    return(\"Recuperación\")\n",
        "  } else {\n",
        "    return(\"Desaprobado\")\n",
        "  }\n",
        "}\n",
        "clasificar_nota(85)\n",
        "clasificar_nota(60)\n",
        "clasificar_nota(40)\n"
      ],
      "metadata": {
        "colab": {
          "base_uri": "https://localhost:8080/"
        },
        "id": "F7I3Nf-6N3ta",
        "outputId": "89116e90-fdbf-4631-ddf9-6fda6cf8cec9"
      },
      "execution_count": null,
      "outputs": [
        {
          "output_type": "stream",
          "name": "stdout",
          "text": [
            "[1] \"Desaprobado\"\n"
          ]
        }
      ]
    },
    {
      "cell_type": "code",
      "source": [
        "%%R\n",
        "\n",
        "# Ejemplo 5: asignar letra de calificación (A, B, C, D, F)\n",
        "notas <- c(95, 82, 76, 65, 50, 88)\n",
        "letra <- character(length(notas))\n",
        "for(i in seq_along(notas)){\n",
        "  if(notas[i] >= 90){\n",
        "    letra[i] <- \"A\"\n",
        "  } else if(notas[i] >= 80){\n",
        "    letra[i] <- \"B\"\n",
        "  } else if(notas[i] >= 70){\n",
        "    letra[i] <- \"C\"\n",
        "  } else if(notas[i] >= 60){\n",
        "    letra[i] <- \"D\"\n",
        "  } else{\n",
        "    letra[i] <- \"F\"\n",
        "  }\n",
        "}\n",
        "print(letra)"
      ],
      "metadata": {
        "colab": {
          "base_uri": "https://localhost:8080/"
        },
        "id": "GcQLpgXIWjuv",
        "outputId": "1d3a1487-0f91-4040-b802-6a4e39de6851"
      },
      "execution_count": null,
      "outputs": [
        {
          "output_type": "stream",
          "name": "stdout",
          "text": [
            "[1] \"A\" \"B\" \"C\" \"D\" \"F\" \"B\"\n"
          ]
        }
      ]
    },
    {
      "cell_type": "code",
      "source": [
        "%%R\n",
        "\n",
        "# if, else y validación: manejo de entradas con mensajes de error.\n",
        "\n",
        "# Ejemplo 6: calcular raíz cuadrada solo si el número es válido\n",
        "raiz_segura <- function(x) {\n",
        "  if (is.na(x)) {\n",
        "    return(\"El valor es NA, no se puede calcular.\")\n",
        "  } else if (x < 0) {\n",
        "    return(\"Número negativo: no tiene raíz real.\")\n",
        "  } else {\n",
        "    return(sqrt(x))\n",
        "  }\n",
        "}\n",
        "raiz_segura(16)\n",
        "raiz_segura(-4)\n",
        "# raiz_segura(NA)"
      ],
      "metadata": {
        "colab": {
          "base_uri": "https://localhost:8080/"
        },
        "id": "FV2OTVsHOdd5",
        "outputId": "98ee55a1-6142-4ec5-8919-9c6116c300e1"
      },
      "execution_count": null,
      "outputs": [
        {
          "output_type": "stream",
          "name": "stdout",
          "text": [
            "[1] \"El valor es NA, no se puede calcular.\"\n"
          ]
        }
      ]
    },
    {
      "cell_type": "code",
      "source": [
        "%%R\n",
        "\n"
      ],
      "metadata": {
        "colab": {
          "base_uri": "https://localhost:8080/"
        },
        "id": "iTSJBms4OnOQ",
        "outputId": "d3abfc75-a8c1-4c0e-c03f-54bf8c8c187a"
      },
      "execution_count": null,
      "outputs": [
        {
          "output_type": "stream",
          "name": "stdout",
          "text": [
            "[1] 20\n"
          ]
        }
      ]
    },
    {
      "cell_type": "markdown",
      "source": [
        "###### Ejercicio aplicado 1"
      ],
      "metadata": {
        "id": "OrhszlQxXS29"
      }
    },
    {
      "cell_type": "code",
      "source": [
        "%%R\n",
        "\n",
        "data(package = \"agridat\")\n",
        "data(\"yates.oats\", package = \"agridat\")\n",
        "head(yates.oats)"
      ],
      "metadata": {
        "colab": {
          "base_uri": "https://localhost:8080/"
        },
        "id": "Ii7FAhlrR9ge",
        "outputId": "26540845-dd85-4fbb-d5c7-c875cbe55261"
      },
      "execution_count": null,
      "outputs": [
        {
          "output_type": "stream",
          "name": "stdout",
          "text": [
            "  row col yield nitro        gen block grain straw\n",
            "1  16   3    80     0 GoldenRain    B1 20.00 28.00\n",
            "2  12   4    60     0 GoldenRain    B2 15.00 25.00\n",
            "3   3   3    89     0 GoldenRain    B3 22.25 40.50\n",
            "4  14   1   117     0 GoldenRain    B4 29.25 28.75\n",
            "5   8   2    64     0 GoldenRain    B5 16.00 32.00\n",
            "6   5   2    70     0 GoldenRain    B6 17.50 27.25\n"
          ]
        }
      ]
    },
    {
      "cell_type": "code",
      "source": [
        "%%R\n",
        "\n",
        "# Función para calcular el promedio de rendimiento por bloque\n",
        "promedio_por_bloque <- function(data) {\n",
        "  if (!all(c(\"yield\", \"block\") %in% names(data))) {\n",
        "    stop(\"El dataset debe contener columnas 'yield' y 'block'\")\n",
        "  }\n",
        "\n",
        "  aggregate(yield ~ block, data = data, FUN = mean, na.rm = TRUE)\n",
        "}\n",
        "\n",
        "# Uso de la función\n",
        "resultados <- promedio_por_bloque(yates.oats)\n",
        "print(resultados)\n"
      ],
      "metadata": {
        "colab": {
          "base_uri": "https://localhost:8080/"
        },
        "id": "UKOtAr9tSDZm",
        "outputId": "30c19a05-1a9d-4c01-a764-b5944d4b8e85"
      },
      "execution_count": null,
      "outputs": [
        {
          "output_type": "stream",
          "name": "stdout",
          "text": [
            "  block     yield\n",
            "1    B1  90.91667\n",
            "2    B2  95.91667\n",
            "3    B3  96.25000\n",
            "4    B4 135.33333\n",
            "5    B5  98.16667\n",
            "6    B6 107.25000\n"
          ]
        }
      ]
    },
    {
      "cell_type": "markdown",
      "source": [
        "###### Ejercicio aplicado 2"
      ],
      "metadata": {
        "id": "O225KjmoXYIV"
      }
    },
    {
      "cell_type": "code",
      "source": [
        "%%R\n",
        "\n",
        "\n",
        "install.packages(\"CO2\")\n",
        "library(dplyr)\n",
        "\n",
        "data(\"CO2\")\n",
        "head(CO2)\n"
      ],
      "metadata": {
        "colab": {
          "base_uri": "https://localhost:8080/",
          "height": 277
        },
        "collapsed": true,
        "id": "1sFqudHBTeYL",
        "outputId": "6cfb5cfb-2f46-4476-ce75-b474fe1c2fa3"
      },
      "execution_count": null,
      "outputs": [
        {
          "output_type": "stream",
          "name": "stdout",
          "text": [
            "  Plant   Type  Treatment conc uptake\n",
            "1   Qn1 Quebec nonchilled   95   16.0\n",
            "2   Qn1 Quebec nonchilled  175   30.4\n",
            "3   Qn1 Quebec nonchilled  250   34.8\n",
            "4   Qn1 Quebec nonchilled  350   37.2\n",
            "5   Qn1 Quebec nonchilled  500   35.3\n",
            "6   Qn1 Quebec nonchilled  675   39.2\n"
          ]
        },
        {
          "output_type": "display_data",
          "data": {
            "text/plain": [
              "Installing package into ‘/usr/local/lib/R/site-library’\n",
              "(as ‘lib’ is unspecified)\n",
              "In addition: Warning message:\n",
              "package ‘CO2’ is not available for this version of R\n",
              "\n",
              "A version of this package for your version of R might be available elsewhere,\n",
              "see the ideas at\n",
              "https://cran.r-project.org/doc/manuals/r-patched/R-admin.html#Installing-packages \n"
            ]
          },
          "metadata": {}
        }
      ]
    },
    {
      "cell_type": "code",
      "source": [
        "%%R\n",
        "\n",
        "# Ejercicio aplicado 2: Calcula promedio de uptake por Type y Treatment\n",
        "\n",
        "promedio_uptake <- function(data) {\n",
        "  # Validación de columnas\n",
        "  if (!all(c(\"Type\", \"Treatment\", \"uptake\") %in% names(data))) {\n",
        "    stop(\"El dataset debe contener columnas 'Type', 'Treatment' y 'uptake'\")\n",
        "  }\n",
        "\n",
        "  # Calcular promedio por Type y Treatment\n",
        "  resumen <- aggregate(uptake ~ Type + Treatment, data = data, FUN = mean)\n",
        "\n",
        "  return(resumen)\n",
        "}\n",
        "\n",
        "# 4. Aplicar la función al dataset CO2\n",
        "resultado <- promedio_uptake(CO2)\n",
        "print(resultado)"
      ],
      "metadata": {
        "colab": {
          "base_uri": "https://localhost:8080/"
        },
        "id": "a6DV7aVET_Lv",
        "outputId": "fdddc75c-9413-40d1-cf08-2a858231934a"
      },
      "execution_count": null,
      "outputs": [
        {
          "output_type": "stream",
          "name": "stdout",
          "text": [
            "         Type  Treatment   uptake\n",
            "1      Quebec nonchilled 35.33333\n",
            "2 Mississippi nonchilled 25.95238\n",
            "3      Quebec    chilled 31.75238\n",
            "4 Mississippi    chilled 15.81429\n"
          ]
        }
      ]
    },
    {
      "cell_type": "markdown",
      "source": [
        "##### 3. Bucles"
      ],
      "metadata": {
        "id": "zs26qwnrPyTA"
      }
    },
    {
      "cell_type": "code",
      "source": [
        "%%R\n",
        "\n",
        "#===============================================================================\n",
        "# Bucles\n",
        "#===============================================================================\n",
        "\n",
        "# Un bucle 'for' permite ejecutar repetidamente un bloque de código\n",
        "# sobre una secuencia de elementos (vectores, listas, matrices).\n",
        "\n",
        "# Sintaxis básica:\n",
        "# for(variable in secuencia) {\n",
        "#   # código que se repite\n",
        "# }\n",
        "\n",
        "# for: cuando quieres recorrer un vector y aplicar una operación sencilla a cada elemento."
      ],
      "metadata": {
        "colab": {
          "base_uri": "https://localhost:8080/"
        },
        "id": "cNaJOS8GUM2a",
        "outputId": "9f5d3ce6-f6fb-4b4d-e99f-7ff40a496a39"
      },
      "execution_count": null,
      "outputs": [
        {
          "output_type": "stream",
          "name": "stdout",
          "text": [
            "[1] 2\n",
            "[1] 4\n",
            "[1] 6\n",
            "[1] 8\n"
          ]
        }
      ]
    },
    {
      "cell_type": "code",
      "source": [
        "%%R\n",
        "\n",
        "# Ejemplo 1: imprimir cada número de un vector\n",
        "vec <- c(2, 4, 6, 8)\n",
        "for (i in vec) {\n",
        "  print(i)\n",
        "}"
      ],
      "metadata": {
        "id": "0meCX41lXkYs"
      },
      "execution_count": null,
      "outputs": []
    },
    {
      "cell_type": "code",
      "source": [
        "%%R\n",
        "\n",
        "# Ejemplo 2: calcular el cuadrado de cada elemento de un vector\n",
        "numeros <- c(1, 3, 5, 7)\n",
        "cuadrados <- numeric(length(numeros))  # preasignar vector vacío\n",
        "for (i in seq_along(numeros)) {\n",
        "  cuadrados[i] <- numeros[i]^2\n",
        "}\n",
        "print(cuadrados)"
      ],
      "metadata": {
        "colab": {
          "base_uri": "https://localhost:8080/"
        },
        "id": "k353bVhNUREc",
        "outputId": "4a04c18d-d6ca-48ef-a8d0-36f9181565e1"
      },
      "execution_count": null,
      "outputs": [
        {
          "output_type": "stream",
          "name": "stdout",
          "text": [
            "[1]  1  9 25 49\n"
          ]
        }
      ]
    },
    {
      "cell_type": "code",
      "source": [
        "%%R\n",
        "\n",
        "# Ejemplo 3:\n",
        "vec <- c(1, 2, 3, 4, 5)\n",
        "resultado <- numeric(length(vec))\n",
        "for(i in seq_along(vec)){\n",
        "  resultado[i] <- vec[i] * 10\n",
        "}\n",
        "print(resultado)"
      ],
      "metadata": {
        "id": "tvxtgHGGWIJT"
      },
      "execution_count": null,
      "outputs": []
    },
    {
      "cell_type": "code",
      "source": [
        "%%R\n",
        "\n",
        "# Ejemplo 4:\n",
        "numeros <- c(1, 4, 7, 8, 10)\n",
        "suma_pares <- 0\n",
        "for(n in numeros){\n",
        "  if(n %% 2 == 0) suma_pares <- suma_pares + n\n",
        "}\n",
        "print(suma_pares)"
      ],
      "metadata": {
        "id": "x_p5LgXaWLtH"
      },
      "execution_count": null,
      "outputs": []
    },
    {
      "cell_type": "code",
      "source": [
        "%%R\n",
        "\n",
        "# Ejemplo 5: imprimir solo números positivos, ignorando NAs\n",
        "valores <- c(3, -2, NA, 5, -1)\n",
        "for (v in valores) {\n",
        "  if (is.na(v)) next  # saltar NAs\n",
        "  if (v > 0) print(v)\n",
        "}\n"
      ],
      "metadata": {
        "colab": {
          "base_uri": "https://localhost:8080/"
        },
        "id": "NFjZBhBpUZ4A",
        "outputId": "5377ae0c-ba09-431e-ca0b-cfe8603616e7"
      },
      "execution_count": null,
      "outputs": [
        {
          "output_type": "stream",
          "name": "stdout",
          "text": [
            "[1] 3\n",
            "[1] 5\n"
          ]
        }
      ]
    },
    {
      "cell_type": "code",
      "source": [
        "%%R\n",
        "\n",
        "# Ejemplo 6: contar cuántos elementos son mayores que 5\n",
        "numeros <- c(4, 7, 2, 9, 5)\n",
        "contador <- 0\n",
        "for (i in numeros) {\n",
        "  if (i > 5) contador <- contador + 1\n",
        "}\n",
        "print(contador)"
      ],
      "metadata": {
        "colab": {
          "base_uri": "https://localhost:8080/"
        },
        "id": "lVwxqC1YUcOn",
        "outputId": "3fc89a66-4e9d-4657-a8de-e13bcb8c3934"
      },
      "execution_count": null,
      "outputs": [
        {
          "output_type": "stream",
          "name": "stdout",
          "text": [
            "[1] 2\n"
          ]
        }
      ]
    },
    {
      "cell_type": "code",
      "source": [
        "%%R\n",
        "\n",
        "# Ejemplo 7: crear un vector dummy de aprobado/desaprobado por notas\n",
        "notas <- c(85, 42, 70, 58, NA, 90)\n",
        "aprobado <- numeric(length(notas))\n",
        "for (i in seq_along(notas)) {\n",
        "  if (is.na(notas[i])) {\n",
        "    aprobado[i] <- NA\n",
        "    next\n",
        "  }\n",
        "  if (notas[i] >= 60) {\n",
        "    aprobado[i] <- 1\n",
        "  } else {\n",
        "    aprobado[i] <- 0\n",
        "  }\n",
        "}\n",
        "print(aprobado)"
      ],
      "metadata": {
        "colab": {
          "base_uri": "https://localhost:8080/"
        },
        "id": "_9lstaynUilI",
        "outputId": "1b3f16b9-d141-44ac-8a7e-e498a1813728"
      },
      "execution_count": null,
      "outputs": [
        {
          "output_type": "stream",
          "name": "stdout",
          "text": [
            "[1]  1  0  1  0 NA  1\n"
          ]
        }
      ]
    },
    {
      "cell_type": "code",
      "source": [
        "# ===============================\n",
        "# BUCLES Y FUNCIONES\n",
        "# ===============================\n",
        "%%R\n",
        "\n",
        "\n",
        "# Podemos combinar 'for' con funciones para hacer código más modular\n",
        "promedio_vector <- function(vec){\n",
        "  total <- 0\n",
        "  n <- length(vec)\n",
        "  for(v in vec){\n",
        "    total <- total + v\n",
        "  }\n",
        "  return(total/n)\n",
        "}\n",
        "\n",
        "print(promedio_vector(c(10,20,30,40)))\n",
        "\n"
      ],
      "metadata": {
        "colab": {
          "base_uri": "https://localhost:8080/"
        },
        "id": "mvXLttxsUqTM",
        "outputId": "fb603b20-56f9-4fb7-99ce-38b1e0e9a4a7"
      },
      "execution_count": null,
      "outputs": [
        {
          "output_type": "stream",
          "name": "stdout",
          "text": [
            "[1] 25\n"
          ]
        }
      ]
    },
    {
      "cell_type": "markdown",
      "source": [
        "###### While"
      ],
      "metadata": {
        "id": "aCUBRjHNQBs2"
      }
    },
    {
      "cell_type": "code",
      "source": [
        "# ===============================\n",
        "# WHILE\n",
        "# ===============================\n",
        "\n",
        "%%R\n",
        "\n",
        "# Ejemplo 1:\n",
        "contador <- 1\n",
        "while(contador <= 3){\n",
        "  print(paste(\"Iteración número\", contador))\n",
        "  contador <- contador + 1\n",
        "}"
      ],
      "metadata": {
        "colab": {
          "base_uri": "https://localhost:8080/"
        },
        "id": "332ZMrOXapBv",
        "outputId": "d1075aa9-83be-452d-8d2f-7e077f812586"
      },
      "execution_count": null,
      "outputs": [
        {
          "output_type": "stream",
          "name": "stdout",
          "text": [
            "[1] \"Iteración número 1\"\n",
            "[1] \"Iteración número 2\"\n",
            "[1] \"Iteración número 3\"\n"
          ]
        }
      ]
    },
    {
      "cell_type": "code",
      "source": [
        "%%R\n",
        "\n",
        "# Ejemplo 2: sumar los números del 1 al 5\n",
        "i <- 1\n",
        "suma <- 0\n",
        "while(i <= 5){\n",
        "  suma <- suma + i\n",
        "  i <- i + 1\n",
        "}\n",
        "print(suma)"
      ],
      "metadata": {
        "colab": {
          "base_uri": "https://localhost:8080/"
        },
        "id": "OKxBayOQazgn",
        "outputId": "0a4ea849-8989-45a0-d10f-4c66ecf20c32"
      },
      "execution_count": null,
      "outputs": [
        {
          "output_type": "stream",
          "name": "stdout",
          "text": [
            "[1] 15\n"
          ]
        }
      ]
    },
    {
      "cell_type": "code",
      "source": [
        "%%R\n",
        "\n",
        "\n",
        "# Ejemplo 3: imprimir números hasta encontrar un número mayor que 7\n",
        "numeros <- c(2,4,6,8,3)\n",
        "i <- 1\n",
        "while(numeros[i] <= 7){\n",
        "  print(numeros[i])\n",
        "  i <- i + 1\n",
        "}"
      ],
      "metadata": {
        "colab": {
          "base_uri": "https://localhost:8080/"
        },
        "id": "AeUSG2Ema2E8",
        "outputId": "28a561af-95ed-4b2f-eaa1-8d23ab81a6e6"
      },
      "execution_count": null,
      "outputs": [
        {
          "output_type": "stream",
          "name": "stdout",
          "text": [
            "[1] 2\n",
            "[1] 4\n",
            "[1] 6\n"
          ]
        }
      ]
    },
    {
      "cell_type": "code",
      "source": [
        "%%R\n",
        "\n",
        "# Ejemplo 4: contar cuántos valores positivos hay en un vector\n",
        "valores <- c(-2,3,NA,5,-1,6)\n",
        "i <- 1\n",
        "contador <- 0\n",
        "while(i <= length(valores)){\n",
        "  if(!is.na(valores[i]) & valores[i] > 0){\n",
        "    contador <- contador + 1\n",
        "  }\n",
        "  i <- i + 1\n",
        "}\n",
        "print(contador)"
      ],
      "metadata": {
        "id": "UOI-6TAXa9XW"
      },
      "execution_count": null,
      "outputs": []
    },
    {
      "cell_type": "code",
      "source": [
        "\n",
        "%%R\n",
        "\n",
        "# Ejemplo 5: aproximación de raíz cuadrada usando el método de Newton\n",
        "x <- 25\n",
        "aprox <- x / 2\n",
        "tolerancia <- 1e-6\n",
        "while(abs(aprox^2 - x) > tolerancia){\n",
        "  aprox <- (aprox + x/aprox)/2\n",
        "}\n",
        "print(aprox)"
      ],
      "metadata": {
        "colab": {
          "base_uri": "https://localhost:8080/"
        },
        "id": "Z3Z_LrPgbB4W",
        "outputId": "e01ab0f2-6c9c-4e4f-9b03-8912b455d81a"
      },
      "execution_count": null,
      "outputs": [
        {
          "output_type": "stream",
          "name": "stdout",
          "text": [
            "[1] 5\n"
          ]
        }
      ]
    },
    {
      "cell_type": "code",
      "source": [
        "%%R\n",
        "\n",
        "# Ejemplo 6: simular lanzamiento de dados hasta obtener un 6\n",
        "set.seed(123)\n",
        "dado <- 0\n",
        "contador <- 0\n",
        "while(dado != 6){\n",
        "  dado <- sample(1:6,1)\n",
        "  contador <- contador + 1\n",
        "  print(paste(\"Lanzamiento\", contador, \":\", dado))\n",
        "}\n",
        "print(paste(\"Número de lanzamientos hasta obtener un 6:\", contador))"
      ],
      "metadata": {
        "colab": {
          "base_uri": "https://localhost:8080/"
        },
        "id": "uk8RwkulbFZG",
        "outputId": "aa9a76bf-1f8f-4aa7-c006-b3f2d9213c6a"
      },
      "execution_count": null,
      "outputs": [
        {
          "output_type": "stream",
          "name": "stdout",
          "text": [
            "[1] \"Lanzamiento 1 : 3\"\n",
            "[1] \"Lanzamiento 2 : 6\"\n",
            "[1] \"Número de lanzamientos hasta obtener un 6: 2\"\n"
          ]
        }
      ]
    },
    {
      "cell_type": "code",
      "source": [
        "%%R\n",
        "\n",
        "# Ejemplo 7\n",
        "print(\"--- Ejemplo de 'break' con 'while':\")\n",
        "numero_descendente <- 20\n",
        "while (numero_descendente > 5) {\n",
        "  if (numero_descendente == 15) {\n",
        "    print(\"?N?mero es 15! Rompiendo el bucle.\")\n",
        "    break # Sale del bucle cuando numero_descendente es 15.\n",
        "  }\n",
        "  print(numero_descendente)\n",
        "  numero_descendente <- numero_descendente - 1\n",
        "}\n",
        "print(paste(\"El valor final de 'numero_descendente' es:\", numero_descendente))"
      ],
      "metadata": {
        "id": "tF5f8jUjb19J"
      },
      "execution_count": null,
      "outputs": []
    },
    {
      "cell_type": "code",
      "source": [
        "%%R\n",
        "\n",
        "# Ejemplo 8: simular medias muestrales\n",
        "set.seed(123)\n",
        "\n",
        "# Iteramos sobre los tamaños de muestra\n",
        "for (x in c(1, 10, 100, 1000)) {\n",
        "\n",
        "  # Inicializar vectores\n",
        "  m_normal      <- rep(NA, x)\n",
        "  m_chisquare   <- rep(NA, x)\n",
        "  m_exponencial <- rep(NA, x)\n",
        "  m_uniforme    <- rep(NA, x)\n",
        "\n",
        "  # Llenar vectores con medias simuladas\n",
        "  i <- 1\n",
        "  while (i <= x) {\n",
        "    m_normal[i]      <- mean(rnorm(10000, -2, sqrt(3)))\n",
        "    m_chisquare[i]   <- mean(rchisq(10000, 15))\n",
        "    m_exponencial[i] <- mean(rexp(10000, 3))\n",
        "    m_uniforme[i]    <- mean(runif(10000, -5, 8))\n",
        "    i <- i + 1\n",
        "  }\n",
        "\n",
        "  # Guardar resultados en un data frame dinámicamente\n",
        "  assign(paste0(\"distribuciones_\", x),\n",
        "         data.frame(m_normal, m_chisquare, m_exponencial, m_uniforme))\n",
        "}"
      ],
      "metadata": {
        "colab": {
          "base_uri": "https://localhost:8080/"
        },
        "id": "_CCOoo24g78m",
        "outputId": "74d1d53c-91d8-45bd-f872-50da13f05e36"
      },
      "execution_count": null,
      "outputs": [
        {
          "output_type": "stream",
          "name": "stderr",
          "text": [
            "UsageError: Cell magic `%%R` not found.\n"
          ]
        }
      ]
    },
    {
      "cell_type": "markdown",
      "source": [
        "###### Repeat"
      ],
      "metadata": {
        "id": "G828AxS2YwKk"
      }
    },
    {
      "cell_type": "code",
      "source": [
        "# ===============================\n",
        "# REPEAT\n",
        "# ===============================\n",
        "\n",
        "# Un bucle 'repeat' ejecuta un bloque de código de manera indefinida\n",
        "# hasta que se cumpla una condición de salida (generalmente usando 'break').\n",
        "#\n",
        "# Sintaxis:\n",
        "# repeat {\n",
        "#   # código que se repite\n",
        "#   if (condición) {\n",
        "#     break   # detiene el bucle\n",
        "#   }\n",
        "# }\n",
        "#\n",
        "# Si no se incluye 'break', el bucle será infinito."
      ],
      "metadata": {
        "id": "20EbT4dHYy5_"
      },
      "execution_count": null,
      "outputs": []
    },
    {
      "cell_type": "code",
      "source": [
        "%%R\n",
        "\n",
        "# Ejercicio 1: Contar del 1 al 5\n",
        "i <- 1\n",
        "repeat {\n",
        "  print(i)\n",
        "  i <- i + 1\n",
        "  if (i > 5) {\n",
        "    break\n",
        "  }\n",
        "}"
      ],
      "metadata": {
        "id": "bedOLKufYzKw"
      },
      "execution_count": null,
      "outputs": []
    },
    {
      "cell_type": "code",
      "source": [
        "%%R\n",
        "\n",
        "# Ejercicio 2: Buscar el primer número divisible por 7\n",
        "x <- 1\n",
        "repeat {\n",
        "  if (x %% 7 == 0) {\n",
        "    print(paste(x, \"es divisible por 7\"))\n",
        "    break\n",
        "  }\n",
        "  x <- x + 1\n",
        "}"
      ],
      "metadata": {
        "id": "gaoBv0idYzP8"
      },
      "execution_count": null,
      "outputs": []
    },
    {
      "cell_type": "code",
      "source": [
        "%%R\n",
        "# Ejercicio 3: Simulación de lanzamiento de dado hasta obtener un 6\n",
        "repeat {\n",
        "  dado <- sample(1:6, 1)\n",
        "  print(paste(\"Salió\", dado))\n",
        "  if (dado == 6) {\n",
        "    print(\"¡Se obtuvo un 6, fin del bucle!\")\n",
        "    break\n",
        "  }\n",
        "}"
      ],
      "metadata": {
        "id": "mUb7cdCSYzTL"
      },
      "execution_count": null,
      "outputs": []
    },
    {
      "cell_type": "code",
      "source": [
        "%%R\n",
        "\n",
        "# Ejercicio 4\n",
        "\n",
        "contador_repeat <- 0\n",
        "\n",
        "repeat {\n",
        "  contador_repeat <- contador_repeat + 1\n",
        "  if (contador_repeat == 5) {\n",
        "    print(\"Contador lleg? a 5. Saliendo del bucle 'repeat'.\")\n",
        "    break\n",
        "  }\n",
        "  print(paste(\"Iteraci?n repeat:\", contador_repeat))\n",
        "}\n",
        "print(paste(\"Valor final de 'contador_repeat':\", contador_repeat))"
      ],
      "metadata": {
        "id": "LfR95MmbbgiZ"
      },
      "execution_count": null,
      "outputs": []
    },
    {
      "cell_type": "markdown",
      "source": [
        "###### Ejercicio aplicado 3"
      ],
      "metadata": {
        "id": "3CYMiGaGYdb1"
      }
    },
    {
      "cell_type": "code",
      "source": [
        "%%R\n",
        "\n",
        "data(\"CO2\")\n",
        "\n",
        "# Ejercicio aplicado 3: contar cuántas plantas tienen uptake > 30\n",
        "i <- 1\n",
        "contador <- 0\n",
        "while(i <= nrow(CO2)){\n",
        "  if(CO2$uptake[i] > 30){\n",
        "    contador <- contador + 1\n",
        "  }\n",
        "  i <- i + 1\n",
        "}\n",
        "print(paste(\"Número de plantas con uptake > 30:\", contador))"
      ],
      "metadata": {
        "colab": {
          "base_uri": "https://localhost:8080/"
        },
        "id": "_UBuxTVxbLqQ",
        "outputId": "01ffbeb1-a913-476f-91c6-d656d76b06b8"
      },
      "execution_count": null,
      "outputs": [
        {
          "output_type": "stream",
          "name": "stdout",
          "text": [
            "[1] \"Número de plantas con uptake > 30: 40\"\n"
          ]
        }
      ]
    },
    {
      "cell_type": "markdown",
      "source": [
        "##### Sentencias"
      ],
      "metadata": {
        "id": "kUgc8zrxQJqY"
      }
    },
    {
      "cell_type": "code",
      "source": [
        "# ===============================\n",
        "#  Sentencias 'break' y 'next'\n",
        "# ===============================\n",
        "#\n",
        "#    'break':\n",
        "#   - Se utiliza dentro de un bucle ('for', 'while' o 'repeat').\n",
        "#   - Sirve para DETENER por completo la ejecución del bucle.\n",
        "#   - Una vez ejecutado, el bucle finaliza y el control pasa a la\n",
        "#     siguiente instrucción después del bucle.\n",
        "#\n",
        "#    'next':\n",
        "#   - También se usa dentro de bucles.\n",
        "#   - Sirve para SALTAR la iteración actual y continuar con la siguiente.\n",
        "#   - El bucle no se detiene, solo ignora el resto del código de esa vuelta.\n",
        "#\n",
        "# Diferencia clave:\n",
        "#   - 'break' → corta el bucle.\n",
        "#   - 'next'  → salta a la siguiente iteración."
      ],
      "metadata": {
        "id": "2H_JenA-cOqn"
      },
      "execution_count": null,
      "outputs": []
    },
    {
      "cell_type": "code",
      "source": [
        "%%R\n",
        "\n",
        "# Ejercicio 1: Detener al llegar a 5\n",
        "for (i in 1:10) {\n",
        "  if (i == 5) {\n",
        "    break\n",
        "  }\n",
        "  print(i)\n",
        "}"
      ],
      "metadata": {
        "id": "mcr01WF7cbN8"
      },
      "execution_count": null,
      "outputs": []
    },
    {
      "cell_type": "code",
      "source": [
        "%%R\n",
        "\n",
        "# Ejercicio 2: Buscar el primer múltiplo de 9\n",
        "x <- 1\n",
        "repeat {\n",
        "  if (x %% 9 == 0) {\n",
        "    print(paste(\"Primer múltiplo de 9 encontrado:\", x))\n",
        "    break\n",
        "  }\n",
        "  x <- x + 1\n",
        "}"
      ],
      "metadata": {
        "id": "EmAQ8sS8ckYn"
      },
      "execution_count": null,
      "outputs": []
    },
    {
      "cell_type": "code",
      "source": [
        "%%R\n",
        "\n",
        "# Ejercicio 3: Salir de un while cuando se cumple una condición\n",
        "i <- 1\n",
        "while (TRUE) {\n",
        "  if (i > 3) {\n",
        "    break\n",
        "  }\n",
        "  print(paste(\"Iteración:\", i))\n",
        "  i <- i + 1\n",
        "}"
      ],
      "metadata": {
        "id": "Mjf7sjYZctNs"
      },
      "execution_count": null,
      "outputs": []
    },
    {
      "cell_type": "code",
      "source": [
        "%%R\n",
        "\n",
        "# Ejercicio 1: Omitir el número 3\n",
        "for (i in 1:5) {\n",
        "  if (i == 3) {\n",
        "    next\n",
        "  }\n",
        "  print(i)\n",
        "}"
      ],
      "metadata": {
        "id": "lNNuGqr_c1n2"
      },
      "execution_count": null,
      "outputs": []
    },
    {
      "cell_type": "code",
      "source": [
        "%%R\n",
        "\n",
        "# Ejercicio 2: Mostrar solo pares\n",
        "for (n in 1:10) {\n",
        "  if (n %% 2 != 0) {\n",
        "    next\n",
        "  }\n",
        "  print(n)\n",
        "}"
      ],
      "metadata": {
        "id": "wY5HRI8vc5CK"
      },
      "execution_count": null,
      "outputs": []
    },
    {
      "cell_type": "code",
      "source": [
        "%%R\n",
        "\n",
        "# Ejercicio 3: Saltar valores negativos en un vector\n",
        "valores <- c(10, -5, 8, -2, 12)\n",
        "\n",
        "for (v in valores) {\n",
        "  if (v < 0) {\n",
        "    next\n",
        "  }\n",
        "  print(paste(\"Valor positivo:\", v))"
      ],
      "metadata": {
        "id": "-xzoxfY7c8w9"
      },
      "execution_count": null,
      "outputs": []
    },
    {
      "cell_type": "code",
      "source": [
        "%%R\n",
        "\n",
        "# Ejemplo 4: sumar solo los números pares de un vector, ignorando NAs\n",
        "suma_pares <- function(vec) {\n",
        "  total <- 0\n",
        "  for (i in vec) {\n",
        "    if (is.na(i)) {\n",
        "      next  # ignora valores faltantes\n",
        "    }\n",
        "    if (i %% 2 != 0) {\n",
        "      next  # ignora impares\n",
        "    }\n",
        "    total <- total + i\n",
        "  }\n",
        "  return(total)\n",
        "}\n",
        "suma_pares(c(2, 3, 4, NA, 6, 7, 8))"
      ],
      "metadata": {
        "id": "MaxRcPCHgawE"
      },
      "execution_count": null,
      "outputs": []
    },
    {
      "cell_type": "code",
      "source": [
        "# --- C03-Global and Local Variables ------------------------------------------\n",
        "# En R, el \"scope\" (ámbito) define dónde una variable puede ser accedida.\n",
        "# Es fundamental diferenciar entre variables GLOBALES y LOCALES:\n",
        "\n",
        "#    Variable Global:\n",
        "#   - Se declara fuera de cualquier función.\n",
        "#   - Es accesible desde cualquier parte del código, incluso dentro de funciones,\n",
        "#     siempre que no exista una variable local con el mismo nombre.\n",
        "#   - Vive durante toda la ejecución del script.\n",
        "\n",
        "#    Variable Local:\n",
        "#   - Se declara dentro de una función.\n",
        "#   - Solo existe y es accesible mientras la función se ejecuta.\n",
        "#   - Una vez que la función termina, la variable local se destruye.\n",
        "\n",
        "#    Importante:\n",
        "#   - Si dentro de una función creas una variable con el mismo nombre\n",
        "#     que una global, la local \"oculta\" a la global mientras dure la función.\n",
        "#   - Esto se llama \"enmascaramiento de variables\"."
      ],
      "metadata": {
        "id": "wbRndYuGdYkJ"
      },
      "execution_count": null,
      "outputs": []
    },
    {
      "cell_type": "code",
      "source": [
        "%% R\n",
        "\n",
        "# Ejemplo 1\n",
        "# Variable global\n",
        "var_global_x <- 10\n",
        "print(paste(\"Fuera de la función: var_global_x =\", var_global_x))\n",
        "\n",
        "mi_funcion_scope <- function() {\n",
        "  # Variable local\n",
        "  var_local_y <- 20\n",
        "\n",
        "  # Puede acceder a la global\n",
        "  print(paste(\"Dentro de la función: var_global_x =\", var_global_x))\n",
        "\n",
        "  # Puede acceder a la local\n",
        "  print(paste(\"Dentro de la función: var_local_y =\", var_local_y))\n",
        "}\n",
        "\n",
        "mi_funcion_scope()\n",
        "\n",
        "# Fuera de la función, var_local_y no existe\n",
        "# print(var_local_y)  # → Error: object 'var_local_y' not found"
      ],
      "metadata": {
        "id": "aZIrzTk9de8U"
      },
      "execution_count": null,
      "outputs": []
    },
    {
      "cell_type": "code",
      "source": [
        "%%R\n",
        "\n",
        "# Ejemplo 2: Enmascaramiento de variables\n",
        "# Variable global\n",
        "mensaje <- \"Hola desde el entorno global\"\n",
        "\n",
        "mi_funcion_scope2 <- function() {\n",
        "  # Variable local con el mismo nombre que la global\n",
        "  mensaje <- \"Hola desde la función (local)\"\n",
        "\n",
        "  print(paste(\"Dentro de la función:\", mensaje))  # Usa la variable local\n",
        "}\n",
        "\n",
        "# Llamada a la función\n",
        "mi_funcion_scope2()\n",
        "\n",
        "# Fuera de la función, se sigue usando la variable global\n",
        "print(paste(\"Fuera de la función:\", mensaje))"
      ],
      "metadata": {
        "id": "Yu_4x1kWdk94"
      },
      "execution_count": null,
      "outputs": []
    },
    {
      "cell_type": "markdown",
      "source": [
        "###### Ejercicio aplicado 4"
      ],
      "metadata": {
        "id": "qKSMHeMsh7nh"
      }
    },
    {
      "cell_type": "code",
      "source": [
        "%%R\n",
        "#===============================================================================\n",
        "# Importación de datos desde Google Drive en Google Colab\n",
        "#===============================================================================\n",
        "\n",
        "# Paso 1: Conectar Google Drive con Google Colab\n",
        "# Esto permite acceder a los archivos que tenemos guardados en Drive,\n",
        "# como si fueran parte del sistema de carpetas de Colab.\n",
        "from google.colab import drive\n",
        "drive.mount('/content/drive')\n",
        "\n",
        "# Paso 2: Usar el módulo 'os' para explorar carpetas\n",
        "import os\n",
        "\n",
        "# Muestra los archivos que existen dentro de la carpeta especificada en Drive.\n",
        "# En este ejemplo: \"/content/drive/MyDrive/Midagri-data/\"\n",
        "# -> Aquí deberías ver tus archivos CSV, Excel, Stata, etc. guardados en esa ruta.\n",
        "os.listdir(\"/content/drive/MyDrive/Midagri-data/\")"
      ],
      "metadata": {
        "id": "7NLyqsmNidPk"
      },
      "execution_count": null,
      "outputs": []
    },
    {
      "cell_type": "code",
      "source": [
        "\n",
        "%%R\n",
        "\n",
        "# 1. Cargar base ENAHO en formato Stata\n",
        "base_enaho a <- read_dta(\"/content/drive/MyDrive/Midagri-databasefinal.dta\")\n",
        "\n",
        "# --------------------------------------------------\n",
        "# 2. Crear variable de selección aleatoria (0 = control, 1 = experimento)\n",
        "# --------------------------------------------------\n",
        "set.seed(123)  # Semilla para reproducibilidad\n",
        "base_enaho$seleccion <- sample(c(1,0), nrow(base_enaho), replace = TRUE)\n",
        "\n",
        "# Subconjunto de \"tratados\" o seleccionados\n",
        "experimento <- base_enaho[base_enaho$seleccion == 1, ]\n",
        "\n",
        "# --------------------------------------------------\n",
        "# 3. Crear variable de \"notas\"\n",
        "# --------------------------------------------------\n",
        "# Versión 1: Inicializar en 0 y luego asignar notas solo a mayores de edad\n",
        "base_enaho$notas <- 0\n",
        "base_enaho$notas[base_enaho$p208a >= 18 & !is.na(base_enaho$p208a)] <-\n",
        "  sample(1:20, sum(base_enaho$p208a >= 18, na.rm = TRUE), replace = TRUE)\n",
        "\n",
        "# Versión 2 (alternativa con dplyr y ifelse):\n",
        "base_enaho <- base_enaho %>%\n",
        "  mutate(notas = ifelse(p208a >= 18,\n",
        "                        sample(1:20, sum(p208a >= 18, na.rm = TRUE), replace = TRUE),\n",
        "                        NA))\n",
        "\n",
        "# --------------------------------------------------\n",
        "# 4. Inspeccionar resultados\n",
        "# --------------------------------------------------\n",
        "# Vista rápida de la base con las variables nuevas\n",
        "head(base_enaho %>% select(p208a, seleccion, notas))"
      ],
      "metadata": {
        "id": "AuSX6OTSh7DZ"
      },
      "execution_count": null,
      "outputs": []
    }
  ]
}